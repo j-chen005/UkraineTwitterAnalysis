{
 "cells": [
  {
   "cell_type": "code",
   "execution_count": 1,
   "id": "cb9a6244",
   "metadata": {},
   "outputs": [],
   "source": [
    "import pandas as pd\n",
    "from nltk.corpus import stopwords\n",
    "from nltk.stem import WordNetLemmatizer"
   ]
  },
  {
   "cell_type": "code",
   "execution_count": 2,
   "id": "7263035d",
   "metadata": {},
   "outputs": [
    {
     "data": {
      "text/html": [
       "<div>\n",
       "<style scoped>\n",
       "    .dataframe tbody tr th:only-of-type {\n",
       "        vertical-align: middle;\n",
       "    }\n",
       "\n",
       "    .dataframe tbody tr th {\n",
       "        vertical-align: top;\n",
       "    }\n",
       "\n",
       "    .dataframe thead th {\n",
       "        text-align: right;\n",
       "    }\n",
       "</style>\n",
       "<table border=\"1\" class=\"dataframe\">\n",
       "  <thead>\n",
       "    <tr style=\"text-align: right;\">\n",
       "      <th></th>\n",
       "      <th>User</th>\n",
       "      <th>Date</th>\n",
       "      <th>Tweet</th>\n",
       "    </tr>\n",
       "  </thead>\n",
       "  <tbody>\n",
       "    <tr>\n",
       "      <th>0</th>\n",
       "      <td>@marcorubio</td>\n",
       "      <td>2/24/2022</td>\n",
       "      <td>In the hours to come #Russia will -conduct str...</td>\n",
       "    </tr>\n",
       "    <tr>\n",
       "      <th>1</th>\n",
       "      <td>@marcorubio</td>\n",
       "      <td>2/24/2022</td>\n",
       "      <td>#Putin thinks #Russia’s troops will be greeted...</td>\n",
       "    </tr>\n",
       "    <tr>\n",
       "      <th>2</th>\n",
       "      <td>@marcorubio</td>\n",
       "      <td>2/24/2022</td>\n",
       "      <td>The #Russian invasion of #Ukraine is now underway</td>\n",
       "    </tr>\n",
       "    <tr>\n",
       "      <th>3</th>\n",
       "      <td>@marcorubio</td>\n",
       "      <td>2/24/2022</td>\n",
       "      <td>The people of #Ukraine are tough people who wi...</td>\n",
       "    </tr>\n",
       "    <tr>\n",
       "      <th>4</th>\n",
       "      <td>@marcorubio</td>\n",
       "      <td>2/24/2022</td>\n",
       "      <td>#Russia’s airborne forces are attempting to ta...</td>\n",
       "    </tr>\n",
       "    <tr>\n",
       "      <th>...</th>\n",
       "      <td>...</td>\n",
       "      <td>...</td>\n",
       "      <td>...</td>\n",
       "    </tr>\n",
       "    <tr>\n",
       "      <th>215</th>\n",
       "      <td>@marcorubio</td>\n",
       "      <td>3/25/2022</td>\n",
       "      <td>If Biden is serious about helping break depend...</td>\n",
       "    </tr>\n",
       "    <tr>\n",
       "      <th>216</th>\n",
       "      <td>@marcorubio</td>\n",
       "      <td>3/29/2022</td>\n",
       "      <td>At 9 a.m. today I will be speaking on Putin’s ...</td>\n",
       "    </tr>\n",
       "    <tr>\n",
       "      <th>217</th>\n",
       "      <td>@marcorubio</td>\n",
       "      <td>3/30/2022</td>\n",
       "      <td>As I tweeted 2 weeks ago, #Putin has a new pla...</td>\n",
       "    </tr>\n",
       "    <tr>\n",
       "      <th>218</th>\n",
       "      <td>@marcorubio</td>\n",
       "      <td>4/5/2022</td>\n",
       "      <td>#Putin felt confident invading #Ukraine becaus...</td>\n",
       "    </tr>\n",
       "    <tr>\n",
       "      <th>219</th>\n",
       "      <td>@marcorubio</td>\n",
       "      <td>4/26/2022</td>\n",
       "      <td>Since Democrats took over 15 months ago, infla...</td>\n",
       "    </tr>\n",
       "  </tbody>\n",
       "</table>\n",
       "<p>220 rows × 3 columns</p>\n",
       "</div>"
      ],
      "text/plain": [
       "            User       Date                                              Tweet\n",
       "0    @marcorubio  2/24/2022  In the hours to come #Russia will -conduct str...\n",
       "1    @marcorubio  2/24/2022  #Putin thinks #Russia’s troops will be greeted...\n",
       "2    @marcorubio  2/24/2022  The #Russian invasion of #Ukraine is now underway\n",
       "3    @marcorubio  2/24/2022  The people of #Ukraine are tough people who wi...\n",
       "4    @marcorubio  2/24/2022  #Russia’s airborne forces are attempting to ta...\n",
       "..           ...        ...                                                ...\n",
       "215  @marcorubio  3/25/2022  If Biden is serious about helping break depend...\n",
       "216  @marcorubio  3/29/2022  At 9 a.m. today I will be speaking on Putin’s ...\n",
       "217  @marcorubio  3/30/2022  As I tweeted 2 weeks ago, #Putin has a new pla...\n",
       "218  @marcorubio   4/5/2022  #Putin felt confident invading #Ukraine becaus...\n",
       "219  @marcorubio  4/26/2022  Since Democrats took over 15 months ago, infla...\n",
       "\n",
       "[220 rows x 3 columns]"
      ]
     },
     "execution_count": 2,
     "metadata": {},
     "output_type": "execute_result"
    }
   ],
   "source": [
    "rubio = pd.read_csv('/Users/justinchen/Desktop/Ukraine Datasets/Marco Rubio Tweets - Sheet1.csv')\n",
    "rubio"
   ]
  },
  {
   "cell_type": "code",
   "execution_count": 3,
   "id": "73d70ec3",
   "metadata": {},
   "outputs": [
    {
     "data": {
      "text/html": [
       "<div>\n",
       "<style scoped>\n",
       "    .dataframe tbody tr th:only-of-type {\n",
       "        vertical-align: middle;\n",
       "    }\n",
       "\n",
       "    .dataframe tbody tr th {\n",
       "        vertical-align: top;\n",
       "    }\n",
       "\n",
       "    .dataframe thead th {\n",
       "        text-align: right;\n",
       "    }\n",
       "</style>\n",
       "<table border=\"1\" class=\"dataframe\">\n",
       "  <thead>\n",
       "    <tr style=\"text-align: right;\">\n",
       "      <th></th>\n",
       "      <th>User</th>\n",
       "      <th>Date</th>\n",
       "      <th>Tweet</th>\n",
       "    </tr>\n",
       "  </thead>\n",
       "  <tbody>\n",
       "    <tr>\n",
       "      <th>0</th>\n",
       "      <td>@BorisJohnson</td>\n",
       "      <td>2/24/22</td>\n",
       "      <td>I am appalled by the horrific events in Ukrain...</td>\n",
       "    </tr>\n",
       "    <tr>\n",
       "      <th>1</th>\n",
       "      <td>@BorisJohnson</td>\n",
       "      <td>2/24/22</td>\n",
       "      <td>This is a catastrophe for our continent. \\n\\nI...</td>\n",
       "    </tr>\n",
       "    <tr>\n",
       "      <th>2</th>\n",
       "      <td>@BorisJohnson</td>\n",
       "      <td>2/24/22</td>\n",
       "      <td>Our mission is clear – diplomatically, politic...</td>\n",
       "    </tr>\n",
       "    <tr>\n",
       "      <th>3</th>\n",
       "      <td>@BorisJohnson</td>\n",
       "      <td>2/24/22</td>\n",
       "      <td>Ukraine is a country that for decades has enjo...</td>\n",
       "    </tr>\n",
       "    <tr>\n",
       "      <th>4</th>\n",
       "      <td>@BorisJohnson</td>\n",
       "      <td>2/24/22</td>\n",
       "      <td>To our Ukrainian friends in this moment of ago...</td>\n",
       "    </tr>\n",
       "    <tr>\n",
       "      <th>...</th>\n",
       "      <td>...</td>\n",
       "      <td>...</td>\n",
       "      <td>...</td>\n",
       "    </tr>\n",
       "    <tr>\n",
       "      <th>111</th>\n",
       "      <td>@BorisJohnson</td>\n",
       "      <td>5/19/22</td>\n",
       "      <td>We also discussed how we can stem the global e...</td>\n",
       "    </tr>\n",
       "    <tr>\n",
       "      <th>112</th>\n",
       "      <td>@BorisJohnson</td>\n",
       "      <td>5/19/22</td>\n",
       "      <td>Reaffirmed British solidarity with the Ukraini...</td>\n",
       "    </tr>\n",
       "    <tr>\n",
       "      <th>113</th>\n",
       "      <td>@BorisJohnson</td>\n",
       "      <td>5/23/22</td>\n",
       "      <td>To all the children of Ukraine: You are not al...</td>\n",
       "    </tr>\n",
       "    <tr>\n",
       "      <th>114</th>\n",
       "      <td>@BorisJohnson</td>\n",
       "      <td>5/24/22</td>\n",
       "      <td>Thank you to schools up and down the country f...</td>\n",
       "    </tr>\n",
       "    <tr>\n",
       "      <th>115</th>\n",
       "      <td>@BorisJohnson</td>\n",
       "      <td>5/28/22</td>\n",
       "      <td>I told President @ZelenskyyUa this morning tha...</td>\n",
       "    </tr>\n",
       "  </tbody>\n",
       "</table>\n",
       "<p>116 rows × 3 columns</p>\n",
       "</div>"
      ],
      "text/plain": [
       "              User     Date                                              Tweet\n",
       "0    @BorisJohnson  2/24/22  I am appalled by the horrific events in Ukrain...\n",
       "1    @BorisJohnson  2/24/22  This is a catastrophe for our continent. \\n\\nI...\n",
       "2    @BorisJohnson  2/24/22  Our mission is clear – diplomatically, politic...\n",
       "3    @BorisJohnson  2/24/22  Ukraine is a country that for decades has enjo...\n",
       "4    @BorisJohnson  2/24/22  To our Ukrainian friends in this moment of ago...\n",
       "..             ...      ...                                                ...\n",
       "111  @BorisJohnson  5/19/22  We also discussed how we can stem the global e...\n",
       "112  @BorisJohnson  5/19/22  Reaffirmed British solidarity with the Ukraini...\n",
       "113  @BorisJohnson  5/23/22  To all the children of Ukraine: You are not al...\n",
       "114  @BorisJohnson  5/24/22  Thank you to schools up and down the country f...\n",
       "115  @BorisJohnson  5/28/22  I told President @ZelenskyyUa this morning tha...\n",
       "\n",
       "[116 rows x 3 columns]"
      ]
     },
     "execution_count": 3,
     "metadata": {},
     "output_type": "execute_result"
    }
   ],
   "source": [
    "johnson = pd.read_csv('/Users/justinchen/Desktop/Ukraine Datasets/Boris Johnson Tweets - Sheet1.csv')\n",
    "johnson"
   ]
  },
  {
   "cell_type": "code",
   "execution_count": 4,
   "id": "75f8efe1",
   "metadata": {},
   "outputs": [
    {
     "data": {
      "text/html": [
       "<div>\n",
       "<style scoped>\n",
       "    .dataframe tbody tr th:only-of-type {\n",
       "        vertical-align: middle;\n",
       "    }\n",
       "\n",
       "    .dataframe tbody tr th {\n",
       "        vertical-align: top;\n",
       "    }\n",
       "\n",
       "    .dataframe thead th {\n",
       "        text-align: right;\n",
       "    }\n",
       "</style>\n",
       "<table border=\"1\" class=\"dataframe\">\n",
       "  <thead>\n",
       "    <tr style=\"text-align: right;\">\n",
       "      <th></th>\n",
       "      <th>User</th>\n",
       "      <th>Date</th>\n",
       "      <th>Tweet</th>\n",
       "    </tr>\n",
       "  </thead>\n",
       "  <tbody>\n",
       "    <tr>\n",
       "      <th>0</th>\n",
       "      <td>@YvetteCooperMP</td>\n",
       "      <td>2/26/22</td>\n",
       "      <td>Ukraine is under fire. People are fleeing war ...</td>\n",
       "    </tr>\n",
       "    <tr>\n",
       "      <th>1</th>\n",
       "      <td>@YvetteCooperMP</td>\n",
       "      <td>2/27/22</td>\n",
       "      <td>My God. People are fleeing war in Europe, the ...</td>\n",
       "    </tr>\n",
       "    <tr>\n",
       "      <th>2</th>\n",
       "      <td>@YvetteCooperMP</td>\n",
       "      <td>2/27/22</td>\n",
       "      <td>Right that Immigration Minister has deleted tw...</td>\n",
       "    </tr>\n",
       "    <tr>\n",
       "      <th>3</th>\n",
       "      <td>@YvetteCooperMP</td>\n",
       "      <td>2/27/22</td>\n",
       "      <td>This is a first step which will help desperate...</td>\n",
       "    </tr>\n",
       "    <tr>\n",
       "      <th>4</th>\n",
       "      <td>@YvetteCooperMP</td>\n",
       "      <td>2/27/22</td>\n",
       "      <td>Shameful of Govt to refuse to even help other ...</td>\n",
       "    </tr>\n",
       "    <tr>\n",
       "      <th>...</th>\n",
       "      <td>...</td>\n",
       "      <td>...</td>\n",
       "      <td>...</td>\n",
       "    </tr>\n",
       "    <tr>\n",
       "      <th>56</th>\n",
       "      <td>@YvetteCooperMP</td>\n",
       "      <td>4/8/22</td>\n",
       "      <td>Not good enough. We need action, not hollow wo...</td>\n",
       "    </tr>\n",
       "    <tr>\n",
       "      <th>57</th>\n",
       "      <td>@YvetteCooperMP</td>\n",
       "      <td>4/14/22</td>\n",
       "      <td>Refugees Minister last wk said “I’m having dif...</td>\n",
       "    </tr>\n",
       "    <tr>\n",
       "      <th>58</th>\n",
       "      <td>@YvetteCooperMP</td>\n",
       "      <td>4/27/22</td>\n",
       "      <td>Families forced to cancel hard earned holidays...</td>\n",
       "    </tr>\n",
       "    <tr>\n",
       "      <th>59</th>\n",
       "      <td>@YvetteCooperMP</td>\n",
       "      <td>5/11/22</td>\n",
       "      <td>Damaging bureaucratic delays on everything fro...</td>\n",
       "    </tr>\n",
       "    <tr>\n",
       "      <th>60</th>\n",
       "      <td>@YvetteCooperMP</td>\n",
       "      <td>5/15/22</td>\n",
       "      <td>We watch #Eurovision every year &amp; normally by ...</td>\n",
       "    </tr>\n",
       "  </tbody>\n",
       "</table>\n",
       "<p>61 rows × 3 columns</p>\n",
       "</div>"
      ],
      "text/plain": [
       "               User     Date  \\\n",
       "0   @YvetteCooperMP  2/26/22   \n",
       "1   @YvetteCooperMP  2/27/22   \n",
       "2   @YvetteCooperMP  2/27/22   \n",
       "3   @YvetteCooperMP  2/27/22   \n",
       "4   @YvetteCooperMP  2/27/22   \n",
       "..              ...      ...   \n",
       "56  @YvetteCooperMP   4/8/22   \n",
       "57  @YvetteCooperMP  4/14/22   \n",
       "58  @YvetteCooperMP  4/27/22   \n",
       "59  @YvetteCooperMP  5/11/22   \n",
       "60  @YvetteCooperMP  5/15/22   \n",
       "\n",
       "                                                Tweet  \n",
       "0   Ukraine is under fire. People are fleeing war ...  \n",
       "1   My God. People are fleeing war in Europe, the ...  \n",
       "2   Right that Immigration Minister has deleted tw...  \n",
       "3   This is a first step which will help desperate...  \n",
       "4   Shameful of Govt to refuse to even help other ...  \n",
       "..                                                ...  \n",
       "56  Not good enough. We need action, not hollow wo...  \n",
       "57  Refugees Minister last wk said “I’m having dif...  \n",
       "58  Families forced to cancel hard earned holidays...  \n",
       "59  Damaging bureaucratic delays on everything fro...  \n",
       "60  We watch #Eurovision every year & normally by ...  \n",
       "\n",
       "[61 rows x 3 columns]"
      ]
     },
     "execution_count": 4,
     "metadata": {},
     "output_type": "execute_result"
    }
   ],
   "source": [
    "cooper = pd.read_csv('/Users/justinchen/Desktop/Ukraine Datasets/Yvette Cooper Tweets - Sheet1.csv')\n",
    "cooper"
   ]
  },
  {
   "cell_type": "code",
   "execution_count": 5,
   "id": "ba0561d7",
   "metadata": {},
   "outputs": [
    {
     "data": {
      "text/html": [
       "<div>\n",
       "<style scoped>\n",
       "    .dataframe tbody tr th:only-of-type {\n",
       "        vertical-align: middle;\n",
       "    }\n",
       "\n",
       "    .dataframe tbody tr th {\n",
       "        vertical-align: top;\n",
       "    }\n",
       "\n",
       "    .dataframe thead th {\n",
       "        text-align: right;\n",
       "    }\n",
       "</style>\n",
       "<table border=\"1\" class=\"dataframe\">\n",
       "  <thead>\n",
       "    <tr style=\"text-align: right;\">\n",
       "      <th></th>\n",
       "      <th>User</th>\n",
       "      <th>Date</th>\n",
       "      <th>Tweet</th>\n",
       "    </tr>\n",
       "  </thead>\n",
       "  <tbody>\n",
       "    <tr>\n",
       "      <th>0</th>\n",
       "      <td>@POTUS</td>\n",
       "      <td>2/24/22</td>\n",
       "      <td>I spoke with the G7 leaders today, and we are ...</td>\n",
       "    </tr>\n",
       "    <tr>\n",
       "      <th>1</th>\n",
       "      <td>@POTUS</td>\n",
       "      <td>2/24/22</td>\n",
       "      <td>We’ve already seen the impact of our actions o...</td>\n",
       "    </tr>\n",
       "    <tr>\n",
       "      <th>2</th>\n",
       "      <td>@POTUS</td>\n",
       "      <td>2/25/22</td>\n",
       "      <td>We have been transparent with the world — we s...</td>\n",
       "    </tr>\n",
       "    <tr>\n",
       "      <th>3</th>\n",
       "      <td>@POTUS</td>\n",
       "      <td>2/25/22</td>\n",
       "      <td>Today, I authorized a new round of sanctions a...</td>\n",
       "    </tr>\n",
       "    <tr>\n",
       "      <th>4</th>\n",
       "      <td>@POTUS</td>\n",
       "      <td>2/25/22</td>\n",
       "      <td>The next few days, weeks, and months will be h...</td>\n",
       "    </tr>\n",
       "    <tr>\n",
       "      <th>...</th>\n",
       "      <td>...</td>\n",
       "      <td>...</td>\n",
       "      <td>...</td>\n",
       "    </tr>\n",
       "    <tr>\n",
       "      <th>146</th>\n",
       "      <td>@POTUS</td>\n",
       "      <td>5/11/22</td>\n",
       "      <td>Today, I visited a family farm in Illinois to ...</td>\n",
       "    </tr>\n",
       "    <tr>\n",
       "      <th>147</th>\n",
       "      <td>@POTUS</td>\n",
       "      <td>5/17/22</td>\n",
       "      <td>Today, I welcomed Greek Prime Minister Kyriako...</td>\n",
       "    </tr>\n",
       "    <tr>\n",
       "      <th>148</th>\n",
       "      <td>@POTUS</td>\n",
       "      <td>5/18/22</td>\n",
       "      <td>The Stars and Stripes fly again over Embassy K...</td>\n",
       "    </tr>\n",
       "    <tr>\n",
       "      <th>149</th>\n",
       "      <td>@POTUS</td>\n",
       "      <td>5/19/22</td>\n",
       "      <td>I applaud Congress for passing the security pa...</td>\n",
       "    </tr>\n",
       "    <tr>\n",
       "      <th>150</th>\n",
       "      <td>@POTUS</td>\n",
       "      <td>5/20/22</td>\n",
       "      <td>We’ve seen just how critical it is. A global s...</td>\n",
       "    </tr>\n",
       "  </tbody>\n",
       "</table>\n",
       "<p>151 rows × 3 columns</p>\n",
       "</div>"
      ],
      "text/plain": [
       "       User     Date                                              Tweet\n",
       "0    @POTUS  2/24/22  I spoke with the G7 leaders today, and we are ...\n",
       "1    @POTUS  2/24/22  We’ve already seen the impact of our actions o...\n",
       "2    @POTUS  2/25/22  We have been transparent with the world — we s...\n",
       "3    @POTUS  2/25/22  Today, I authorized a new round of sanctions a...\n",
       "4    @POTUS  2/25/22  The next few days, weeks, and months will be h...\n",
       "..      ...      ...                                                ...\n",
       "146  @POTUS  5/11/22  Today, I visited a family farm in Illinois to ...\n",
       "147  @POTUS  5/17/22  Today, I welcomed Greek Prime Minister Kyriako...\n",
       "148  @POTUS  5/18/22  The Stars and Stripes fly again over Embassy K...\n",
       "149  @POTUS  5/19/22  I applaud Congress for passing the security pa...\n",
       "150  @POTUS  5/20/22  We’ve seen just how critical it is. A global s...\n",
       "\n",
       "[151 rows x 3 columns]"
      ]
     },
     "execution_count": 5,
     "metadata": {},
     "output_type": "execute_result"
    }
   ],
   "source": [
    "biden = pd.read_csv('/Users/justinchen/Desktop/Ukraine Datasets/Joe Biden Tweets - Sheet1.csv')\n",
    "biden"
   ]
  },
  {
   "cell_type": "markdown",
   "id": "6cb4077b",
   "metadata": {},
   "source": [
    "## Preprocessing "
   ]
  },
  {
   "cell_type": "code",
   "execution_count": 6,
   "id": "e17c0ad4",
   "metadata": {},
   "outputs": [],
   "source": [
    "import re #regex library used for substituting words\n",
    "import demoji #https://github.com/bsolomon1124/demoji"
   ]
  },
  {
   "cell_type": "code",
   "execution_count": 7,
   "id": "4e195672",
   "metadata": {},
   "outputs": [],
   "source": [
    "def pre_cleaning(text):\n",
    "    text = demoji.replace(text, repl=' ')\n",
    "    return text"
   ]
  },
  {
   "cell_type": "code",
   "execution_count": 8,
   "id": "38312d66",
   "metadata": {},
   "outputs": [],
   "source": [
    "#removing stopwords and urls, lemmatization, making lowercase \n",
    "stop_words = stopwords.words('english')\n",
    "lemmatizer = WordNetLemmatizer()\n",
    "\n",
    "text_cleaning_re = \"@|https?:\\S+|http?:\\S|[^A-Za-z0-9]+\"\n",
    "\n",
    "def cleaning(text, stem=False):\n",
    "    text = re.sub(text_cleaning_re, ' ', str(text).lower()).strip()\n",
    "    tokens = []\n",
    "    for token in text.split():\n",
    "        if token not in stop_words:\n",
    "            if stem:\n",
    "                tokens.append(lemmatizer.lemmatize(token))\n",
    "            else:\n",
    "                tokens.append(token)\n",
    "    return \" \".join(tokens)"
   ]
  },
  {
   "cell_type": "code",
   "execution_count": 9,
   "id": "9237c53a",
   "metadata": {},
   "outputs": [],
   "source": [
    "def post_cleaning(text):\n",
    "    # Remove all the special characters\n",
    "    processed_feature = re.sub(r'\\W', ' ',text)\n",
    "\n",
    "    # remove all single characters\n",
    "    processed_feature= re.sub(r'\\s+[a-zA-Z]\\s+', ' ', processed_feature)\n",
    "\n",
    "    # Remove single characters from the start\n",
    "    processed_feature = re.sub(r'\\^[a-zA-Z]\\s+', ' ', processed_feature) \n",
    "    \n",
    "    #remove digits\n",
    "    processed_feature = re.sub(\"^\\d+\\s|\\s\\d+\\s|\\s\\d+$\", \" \", processed_feature)\n",
    "\n",
    "    # Substituting multiple spaces with single space\n",
    "    processed_feature = re.sub(r'\\s+', ' ', processed_feature, flags=re.I)\n",
    "\n",
    "    return processed_feature"
   ]
  },
  {
   "cell_type": "code",
   "execution_count": 10,
   "id": "a2190f3d",
   "metadata": {},
   "outputs": [],
   "source": [
    "def spec_cleaning(text):\n",
    "    line = re.sub(\"ukrain\\S+\", 'ukrain', text)\n",
    "    line = re.sub(\"russia\\S+\", 'russia', line)\n",
    "    line = re.sub(\"brit\\S+\", 'brit', line)\n",
    "    line = re.sub(\"zelensk\\S+\", 'zelensky', line)\n",
    "    \n",
    "    line = re.sub(\"militar\\S+\", 'militar', line)\n",
    "    line = re.sub(\"famil\\S+\", 'famil', line)\n",
    "    line = re.sub(\"countr\\S+\", 'countr', line)\n",
    "    line = re.sub(\"free\\S+\", 'free', line)\n",
    "    line = re.sub(\"home\\S+\", 'home', line)\n",
    "    line = re.sub(\"shame\\S+\", 'shame', line)\n",
    "    line = re.sub(\"support\\S+\", 'support', line)\n",
    "    \n",
    "    return line"
   ]
  },
  {
   "cell_type": "code",
   "execution_count": 11,
   "id": "829402bf",
   "metadata": {},
   "outputs": [],
   "source": [
    "#above functions combined\n",
    "def preprocessing(text):\n",
    "    line = pre_cleaning(text)\n",
    "    line = cleaning(line)\n",
    "    line = post_cleaning(line)\n",
    "    line = spec_cleaning(line)\n",
    "    return line"
   ]
  },
  {
   "cell_type": "code",
   "execution_count": 12,
   "id": "6ee1b6a0",
   "metadata": {},
   "outputs": [],
   "source": [
    "rubio.Tweet = rubio.Tweet.apply(lambda x: preprocessing(x))\n",
    "johnson.Tweet = johnson.Tweet.apply(lambda x: preprocessing(x))\n",
    "cooper.Tweet = cooper.Tweet.apply(lambda x: preprocessing(x))\n",
    "biden.Tweet = biden.Tweet.apply(lambda x: preprocessing(x))"
   ]
  },
  {
   "cell_type": "markdown",
   "id": "73a4e4e1",
   "metadata": {},
   "source": [
    "# Collocations"
   ]
  },
  {
   "cell_type": "code",
   "execution_count": 13,
   "id": "25d429c4",
   "metadata": {},
   "outputs": [],
   "source": [
    "import nltk\n",
    "from nltk.collocations import *"
   ]
  },
  {
   "cell_type": "code",
   "execution_count": 14,
   "id": "88f76b39",
   "metadata": {},
   "outputs": [],
   "source": [
    "from nltk.lm import NgramCounter"
   ]
  },
  {
   "cell_type": "markdown",
   "id": "534a4ef2",
   "metadata": {},
   "source": [
    "## Bigrams"
   ]
  },
  {
   "cell_type": "code",
   "execution_count": 15,
   "id": "355e1903",
   "metadata": {},
   "outputs": [],
   "source": [
    "def bigram(polit):\n",
    "    doc = \"\"\n",
    "    for tweet in polit.Tweet:\n",
    "        doc = doc + ' . ' + tweet\n",
    "    \n",
    "    tokens = nltk.wordpunct_tokenize(doc)\n",
    "    bigram_measures = nltk.collocations.BigramAssocMeasures()\n",
    "\n",
    "    finder = BigramCollocationFinder.from_words(tokens)\n",
    "\n",
    "#     finder.apply_freq_filter(3)\n",
    "#     print(finder.nbest(bigram_measures.raw_freq, 20))\n",
    "    print(sorted(finder.ngram_fd.items(), key=lambda t: (-t[1], t[0]))[:20])\n",
    "#     print(finder.score_ngrams(bigram_measures.raw_freq))"
   ]
  },
  {
   "cell_type": "code",
   "execution_count": 16,
   "id": "4b396348",
   "metadata": {},
   "outputs": [
    {
     "name": "stdout",
     "output_type": "stream",
     "text": [
      "[(('president', 'zelensky'), 21), (('support', 'ukrain'), 20), (('ukrain', '.'), 18), (('ukrain', 'people'), 13), (('.', 'uk'), 12), (('invasion', 'ukrain'), 9), (('putin', 'regime'), 9), (('spoke', 'president'), 9), (('ensure', 'putin'), 8), (('help', 'ukrain'), 8), (('.', 'spoke'), 7), (('putin', 'must'), 7), (('stand', 'ukrain'), 7), (('.', 'today'), 6), (('must', 'fail'), 6), (('putin', 'barbaric'), 6), (('slava', 'ukrain'), 6), (('barbaric', 'invasion'), 5), (('fail', '.'), 5), (('militar', 'aid'), 5)]\n"
     ]
    }
   ],
   "source": [
    "bigram(johnson)"
   ]
  },
  {
   "cell_type": "code",
   "execution_count": 17,
   "id": "cbe720b0",
   "metadata": {},
   "outputs": [
    {
     "name": "stdout",
     "output_type": "stream",
     "text": [
      "[(('home', 'office'), 30), (('ukrain', 'famil'), 10), (('priti', 'patel'), 8), (('turned', 'away'), 8), (('home', 'secretary'), 7), (('elderly', 'parents'), 6), (('fleeing', 'war'), 6), (('war', 'europe'), 6), (('.', 'home'), 5), (('desperate', 'famil'), 5), (('famil', 'scheme'), 5), (('famil', 'still'), 5), (('people', 'fleeing'), 5), (('shame', '.'), 5), (('sponsorship', 'scheme'), 5), (('ukrain', 'refugees'), 5), (('visa', 'centres'), 5), (('.', 'ukrain'), 4), (('better', '.'), 4), (('checks', 'done'), 4)]\n"
     ]
    }
   ],
   "source": [
    "bigram(cooper)"
   ]
  },
  {
   "cell_type": "code",
   "execution_count": 18,
   "id": "bf7b5dc3",
   "metadata": {},
   "outputs": [
    {
     "name": "stdout",
     "output_type": "stream",
     "text": [
      "[(('support', 'ukrain'), 27), (('ukrain', '.'), 26), (('united', 'states'), 26), (('ukrain', 'people'), 23), (('.', 'today'), 19), (('allies', 'partners'), 16), (('war', 'ukrain'), 12), (('assistance', 'ukrain'), 11), (('people', 'ukrain'), 11), (('putin', 'war'), 11), (('humanitarian', 'assistance'), 10), (('russia', 'aggression'), 10), (('.', 'putin'), 9), (('security', 'assistance'), 9), (('people', '.'), 8), (('aggression', '.'), 7), (('defend', 'countr'), 7), (('president', 'zelensky'), 7), (('prime', 'minister'), 7), (('unprovoked', 'unjustified'), 7)]\n"
     ]
    }
   ],
   "source": [
    "bigram(biden)"
   ]
  },
  {
   "cell_type": "code",
   "execution_count": 19,
   "id": "50426472",
   "metadata": {},
   "outputs": [
    {
     "name": "stdout",
     "output_type": "stream",
     "text": [
      "[(('.', 'russia'), 34), (('.', 'putin'), 31), (('ukrain', '.'), 14), (('war', 'crimes'), 9), (('russia', '.'), 8), (('.', 'ukrain'), 7), (('costly', 'militar'), 7), (('ukrain', 'militar'), 7), (('cease', 'fire'), 6), (('false', 'flag'), 6), (('militar', 'victory'), 6), (('russia', 'invaders'), 6), (('russia', 'militar'), 6), (('.', 'today'), 5), (('chemical', 'biological'), 5), (('invasion', 'ukrain'), 5), (('ukrain', 'russia'), 5), (('.', 'growing'), 4), (('.', 'matter'), 4), (('black', 'sea'), 4)]\n"
     ]
    }
   ],
   "source": [
    "bigram(rubio)"
   ]
  },
  {
   "cell_type": "markdown",
   "id": "aad001d1",
   "metadata": {},
   "source": [
    "## Trigrams"
   ]
  },
  {
   "cell_type": "code",
   "execution_count": 20,
   "id": "ae26f559",
   "metadata": {},
   "outputs": [],
   "source": [
    "def trigram(polit):\n",
    "    doc = \"\"\n",
    "    for tweet in polit.Tweet:\n",
    "        doc = doc + ' . ' + tweet\n",
    "    \n",
    "    tokens = nltk.wordpunct_tokenize(doc)\n",
    "    trigram_measures = nltk.collocations.TrigramAssocMeasures()\n",
    "\n",
    "    finder = TrigramCollocationFinder.from_words(tokens)\n",
    "\n",
    "#     finder.apply_freq_filter(3)\n",
    "#     print(finder.nbest(trigram_measures.raw_freq, 20))\n",
    "    print(sorted(finder.ngram_fd.items(), key=lambda t: (-t[1], t[0]))[:20])"
   ]
  },
  {
   "cell_type": "code",
   "execution_count": 21,
   "id": "7d3cb3ba",
   "metadata": {},
   "outputs": [
    {
     "name": "stdout",
     "output_type": "stream",
     "text": [
      "[(('spoke', 'president', 'zelensky'), 9), (('.', 'spoke', 'president'), 6), (('putin', 'must', 'fail'), 6), (('must', 'fail', '.'), 5), (('slava', 'ukrain', '.'), 5), (('ensure', 'putin', 'fails'), 4), (('economic', 'support', 'ukrain'), 3), (('putin', 'barbaric', 'invasion'), 3), (('putin', 'fails', '.'), 3), (('putin', 'war', 'machine'), 3), (('sanctions', 'putin', 'regime'), 3), (('stand', 'ukrain', '.'), 3), (('step', 'militar', 'economic'), 3), (('support', 'ukrain', 'people'), 3), (('uk', 'continue', 'step'), 3), (('uk', 'stands', 'ukrain'), 3), (('ukrain', 'slava', 'ukrain'), 3), (('.', 'afternoon', 'spoke'), 2), (('.', 'evening', 'spoke'), 2), (('.', 'looking', 'forward'), 2)]\n"
     ]
    }
   ],
   "source": [
    "trigram(johnson)"
   ]
  },
  {
   "cell_type": "code",
   "execution_count": 22,
   "id": "94e4eea7",
   "metadata": {},
   "outputs": [
    {
     "name": "stdout",
     "output_type": "stream",
     "text": [
      "[(('.', 'home', 'office'), 4), (('people', 'fleeing', 'war'), 4), (('elderly', 'parents', 'ukrain'), 3), (('fleeing', 'war', 'europe'), 3), (('home', 'office', 'still'), 3), (('urgency', 'crisis', '.'), 3), (('.', 'ministers', 'officials'), 2), (('.', 'tens', 'thousands'), 2), (('.', 'today', 'govt'), 2), (('admit', 'security', 'checks'), 2), (('arrive', 'uk', 'without'), 2), (('bit', 'help', 'ukrain'), 2), (('bring', 'famil', 'uk'), 2), (('checks', 'done', 'hours'), 2), (('community', 'sponsorship', 'scheme'), 2), (('countr', 'better', '.'), 2), (('desperate', 'ukrain', 'famil'), 2), (('disgrace', 'desperate', 'ukrain'), 2), (('done', 'hours', 'spot'), 2), (('emergency', 'protection', 'visas'), 2)]\n"
     ]
    }
   ],
   "source": [
    "trigram(cooper)"
   ]
  },
  {
   "cell_type": "code",
   "execution_count": 23,
   "id": "1a53c6a5",
   "metadata": {},
   "outputs": [
    {
     "name": "stdout",
     "output_type": "stream",
     "text": [
      "[(('ukrain', 'people', '.'), 7), (('ukrain', '.', 'today'), 6), (('.', 'watch', 'live'), 5), (('putin', 'price', 'hike'), 5), (('.', 'today', 'met'), 4), (('assistance', 'ukrain', '.'), 4), (('hold', 'russia', 'accountable'), 4), (('putin', 'war', 'choice'), 4), (('putin', 'war', 'ukrain'), 4), (('russia', 'aggression', '.'), 4), (('russia', 'unprovoked', 'unjustified'), 4), (('security', 'assistance', 'ukrain'), 4), (('support', 'ukrain', '.'), 4), (('support', 'ukrain', 'people'), 4), (('ukrain', 'people', 'defend'), 4), (('ukrain', 'united', 'states'), 4), (('war', 'ukrain', '.'), 4), (('.', 'tune', 'deliver'), 3), (('aggression', '.', 'today'), 3), (('assistance', 'ukrain', 'people'), 3)]\n"
     ]
    }
   ],
   "source": [
    "trigram(biden)"
   ]
  },
  {
   "cell_type": "code",
   "execution_count": 24,
   "id": "d53e375d",
   "metadata": {
    "scrolled": true
   },
   "outputs": [
    {
     "name": "stdout",
     "output_type": "stream",
     "text": [
      "[(('costly', 'militar', 'victory'), 6), (('either', 'costly', 'militar'), 4), (('matter', 'many', 'cities'), 4), (('nuclear', 'power', 'plant'), 4), (('.', 'russia', 'invaders'), 3), (('degrade', 'ukrain', 'militar'), 3), (('install', 'puppet', 'govt'), 3), (('militar', 'victory', 'occupation'), 3), (('offer', 'cease', 'fire'), 3), (('people', 'never', 'accept'), 3), (('russia', '.', 'russia'), 3), (('russia', 'militar', 'doctrine'), 3), (('ukrain', 'forces', 'east'), 3), (('years', 'afghanistan', '.'), 3), (('.', 'dangerous', 'moment'), 2), (('.', 'economy', 'russia'), 2), (('.', 'growing', 'signs'), 2), (('.', 'matter', 'happens'), 2), (('.', 'matter', 'many'), 2), (('.', 'new', 'russia'), 2)]\n"
     ]
    }
   ],
   "source": [
    "trigram(rubio)"
   ]
  },
  {
   "cell_type": "markdown",
   "id": "d34130c3",
   "metadata": {},
   "source": [
    "## Quadgrams"
   ]
  },
  {
   "cell_type": "code",
   "execution_count": 25,
   "id": "eca6f8fa",
   "metadata": {},
   "outputs": [],
   "source": [
    "def quadgram(polit):\n",
    "    doc = \"\"\n",
    "    for tweet in polit.Tweet:\n",
    "        doc = doc + ' . ' + tweet\n",
    "    \n",
    "    tokens = nltk.wordpunct_tokenize(doc)\n",
    "    quadgram_measures = nltk.collocations.QuadgramAssocMeasures()\n",
    "\n",
    "    finder = QuadgramCollocationFinder.from_words(tokens)\n",
    "\n",
    "    finder.apply_freq_filter(2)\n",
    "#     print(finder.nbest(quadgram_measures.raw_freq, 20))\n",
    "    print(sorted(finder.ngram_fd.items(), key=lambda t: (-t[1], t[0]))[:20])"
   ]
  },
  {
   "cell_type": "code",
   "execution_count": 26,
   "id": "5c593e2b",
   "metadata": {},
   "outputs": [
    {
     "name": "stdout",
     "output_type": "stream",
     "text": [
      "[(('.', 'spoke', 'president', 'zelensky'), 6), (('putin', 'must', 'fail', '.'), 5), (('.', 'evening', 'spoke', 'president'), 2), (('.', 'looking', 'forward', 'welcoming'), 2), (('.', 'stand', 'ukrain', '.'), 2), (('000', 'visas', 'issued', 'schemes'), 2), (('continue', 'step', 'militar', 'economic'), 2), (('ensure', 'putin', 'fails', '.'), 2), (('evening', 'spoke', 'president', 'zelensky'), 2), (('militar', 'economic', 'diplomatic', 'support'), 2), (('people', 'ukrain', 'slava', 'ukrain'), 2), (('step', 'militar', 'economic', 'diplomatic'), 2), (('uk', 'continue', 'step', 'militar'), 2), (('ukrain', 'putin', 'must', 'fail'), 2), (('ukrain', 'slava', 'ukrain', '.'), 2)]\n"
     ]
    }
   ],
   "source": [
    "quadgram(johnson)"
   ]
  },
  {
   "cell_type": "code",
   "execution_count": 27,
   "id": "a6dbc947",
   "metadata": {},
   "outputs": [
    {
     "name": "stdout",
     "output_type": "stream",
     "text": [
      "[(('people', 'fleeing', 'war', 'europe'), 3), (('.', 'tens', 'thousands', 'ukrain'), 2), (('admit', 'security', 'checks', 'done'), 2), (('bit', 'help', 'ukrain', '.'), 2), (('checks', 'done', 'hours', 'spot'), 2), (('done', 'hours', 'spot', 'weeks'), 2), (('existing', 'community', 'sponsorship', 'scheme'), 2), (('famil', 'arrive', 'uk', 'without'), 2), (('hours', 'spot', 'weeks', 'delays'), 2), (('ministers', 'officials', 'admit', 'security'), 2), (('officials', 'admit', 'security', 'checks'), 2), (('security', 'checks', 'done', 'hours'), 2), (('total', 'disgrace', 'desperate', 'ukrain'), 2), (('ukrain', 'famil', 'arrive', 'uk'), 2), (('ukrain', 'famil', 'turned', 'away'), 2), (('understand', 'urgency', 'crisis', '.'), 2)]\n"
     ]
    }
   ],
   "source": [
    "quadgram(cooper)"
   ]
  },
  {
   "cell_type": "code",
   "execution_count": 28,
   "id": "1e1a6e02",
   "metadata": {},
   "outputs": [
    {
     "name": "stdout",
     "output_type": "stream",
     "text": [
      "[(('.', 'tune', 'deliver', 'remarks'), 3), (('billion', 'security', 'assistance', 'ukrain'), 3), (('putin', 'war', 'choice', 'ukrain'), 3), (('support', 'ukrain', 'face', 'russia'), 3), (('ukrain', 'people', 'defend', 'countr'), 3), (('united', 'states', 'allies', 'partners'), 3), (('unprovoked', 'unjustified', 'attack', 'ukrain'), 3), (('.', 'today', 'met', 'ukrain'), 2), (('.', 'watch', 'live', 'announce'), 2), (('.', 'watch', 'live', 'deliver'), 2), (('000', 'ukrain', 'others', 'fleeing'), 2), (('accountable', 'unprovoked', 'unjustified', 'war'), 2), (('actions', 'continue', 'hold', 'russia'), 2), (('announce', 'actions', 'continue', 'hold'), 2), (('assistance', 'united', 'states', 'providing'), 2), (('chef', 'jos', 'andr', 'team'), 2), (('commit', 'fight', 'democracy', 'long'), 2), (('congress', 'supplemental', 'budget', 'request'), 2), (('continue', 'hold', 'russia', 'accountable'), 2), (('continued', 'commitment', 'support', 'ukrain'), 2)]\n"
     ]
    }
   ],
   "source": [
    "quadgram(biden)"
   ]
  },
  {
   "cell_type": "code",
   "execution_count": 29,
   "id": "3731d483",
   "metadata": {
    "scrolled": true
   },
   "outputs": [
    {
     "name": "stdout",
     "output_type": "stream",
     "text": [
      "[(('either', 'costly', 'militar', 'victory'), 4), (('costly', 'militar', 'victory', 'occupation'), 3), (('.', 'matter', 'many', 'cities'), 2), (('.', 'possible', 'end', 'month'), 2), (('achieve', 'costly', 'militar', 'victory'), 2), (('costly', 'militar', 'victory', 'followed'), 2), (('deep', 'western', 'ukrain', '.'), 2), (('died', 'ukrain', 'weeks', 'years'), 2), (('end', 'month', 'russia', 'soldiers'), 2), (('force', 'local', 'officials', 'surrender'), 2), (('largest', 'nuclear', 'power', 'plant'), 2), (('matter', 'many', 'cities', 'putin'), 2), (('militar', 'victory', 'occupation', 'quagmire'), 2), (('month', 'russia', 'soldiers', 'died'), 2), (('need', 'start', 'thinking', 'willing'), 2), (('nuclear', 'power', 'plant', 'ukrain'), 2), (('possible', 'end', 'month', 'russia'), 2), (('prepare', 'report', 'suspicious', 'cyber'), 2), (('quality', 'life', 'rapidly', 'deteriorating'), 2), (('report', 'suspicious', 'cyber', 'activity'), 2)]\n"
     ]
    }
   ],
   "source": [
    "quadgram(rubio)"
   ]
  }
 ],
 "metadata": {
  "kernelspec": {
   "display_name": "Python 3 (ipykernel)",
   "language": "python",
   "name": "python3"
  },
  "language_info": {
   "codemirror_mode": {
    "name": "ipython",
    "version": 3
   },
   "file_extension": ".py",
   "mimetype": "text/x-python",
   "name": "python",
   "nbconvert_exporter": "python",
   "pygments_lexer": "ipython3",
   "version": "3.11.2"
  }
 },
 "nbformat": 4,
 "nbformat_minor": 5
}
