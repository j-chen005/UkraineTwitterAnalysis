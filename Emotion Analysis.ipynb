{
 "cells": [
  {
   "cell_type": "code",
   "execution_count": 1,
   "id": "cb9a6244",
   "metadata": {},
   "outputs": [],
   "source": [
    "import pandas as pd\n",
    "import numpy as np\n",
    "from nltk.corpus import stopwords\n",
    "from nltk.stem import WordNetLemmatizer\n",
    "from nltk import word_tokenize"
   ]
  },
  {
   "cell_type": "code",
   "execution_count": 2,
   "id": "7263035d",
   "metadata": {},
   "outputs": [
    {
     "data": {
      "text/html": [
       "<div>\n",
       "<style scoped>\n",
       "    .dataframe tbody tr th:only-of-type {\n",
       "        vertical-align: middle;\n",
       "    }\n",
       "\n",
       "    .dataframe tbody tr th {\n",
       "        vertical-align: top;\n",
       "    }\n",
       "\n",
       "    .dataframe thead th {\n",
       "        text-align: right;\n",
       "    }\n",
       "</style>\n",
       "<table border=\"1\" class=\"dataframe\">\n",
       "  <thead>\n",
       "    <tr style=\"text-align: right;\">\n",
       "      <th></th>\n",
       "      <th>User</th>\n",
       "      <th>Date</th>\n",
       "      <th>Tweet</th>\n",
       "    </tr>\n",
       "  </thead>\n",
       "  <tbody>\n",
       "    <tr>\n",
       "      <th>0</th>\n",
       "      <td>@marcorubio</td>\n",
       "      <td>2/24/2022</td>\n",
       "      <td>In the hours to come #Russia will -conduct str...</td>\n",
       "    </tr>\n",
       "    <tr>\n",
       "      <th>1</th>\n",
       "      <td>@marcorubio</td>\n",
       "      <td>2/24/2022</td>\n",
       "      <td>#Putin thinks #Russia’s troops will be greeted...</td>\n",
       "    </tr>\n",
       "    <tr>\n",
       "      <th>2</th>\n",
       "      <td>@marcorubio</td>\n",
       "      <td>2/24/2022</td>\n",
       "      <td>The #Russian invasion of #Ukraine is now underway</td>\n",
       "    </tr>\n",
       "    <tr>\n",
       "      <th>3</th>\n",
       "      <td>@marcorubio</td>\n",
       "      <td>2/24/2022</td>\n",
       "      <td>The people of #Ukraine are tough people who wi...</td>\n",
       "    </tr>\n",
       "    <tr>\n",
       "      <th>4</th>\n",
       "      <td>@marcorubio</td>\n",
       "      <td>2/24/2022</td>\n",
       "      <td>#Russia’s airborne forces are attempting to ta...</td>\n",
       "    </tr>\n",
       "    <tr>\n",
       "      <th>...</th>\n",
       "      <td>...</td>\n",
       "      <td>...</td>\n",
       "      <td>...</td>\n",
       "    </tr>\n",
       "    <tr>\n",
       "      <th>215</th>\n",
       "      <td>@marcorubio</td>\n",
       "      <td>3/25/2022</td>\n",
       "      <td>If Biden is serious about helping break depend...</td>\n",
       "    </tr>\n",
       "    <tr>\n",
       "      <th>216</th>\n",
       "      <td>@marcorubio</td>\n",
       "      <td>3/29/2022</td>\n",
       "      <td>At 9 a.m. today I will be speaking on Putin’s ...</td>\n",
       "    </tr>\n",
       "    <tr>\n",
       "      <th>217</th>\n",
       "      <td>@marcorubio</td>\n",
       "      <td>3/30/2022</td>\n",
       "      <td>As I tweeted 2 weeks ago, #Putin has a new pla...</td>\n",
       "    </tr>\n",
       "    <tr>\n",
       "      <th>218</th>\n",
       "      <td>@marcorubio</td>\n",
       "      <td>4/5/2022</td>\n",
       "      <td>#Putin felt confident invading #Ukraine becaus...</td>\n",
       "    </tr>\n",
       "    <tr>\n",
       "      <th>219</th>\n",
       "      <td>@marcorubio</td>\n",
       "      <td>4/26/2022</td>\n",
       "      <td>Since Democrats took over 15 months ago, infla...</td>\n",
       "    </tr>\n",
       "  </tbody>\n",
       "</table>\n",
       "<p>220 rows × 3 columns</p>\n",
       "</div>"
      ],
      "text/plain": [
       "            User       Date                                              Tweet\n",
       "0    @marcorubio  2/24/2022  In the hours to come #Russia will -conduct str...\n",
       "1    @marcorubio  2/24/2022  #Putin thinks #Russia’s troops will be greeted...\n",
       "2    @marcorubio  2/24/2022  The #Russian invasion of #Ukraine is now underway\n",
       "3    @marcorubio  2/24/2022  The people of #Ukraine are tough people who wi...\n",
       "4    @marcorubio  2/24/2022  #Russia’s airborne forces are attempting to ta...\n",
       "..           ...        ...                                                ...\n",
       "215  @marcorubio  3/25/2022  If Biden is serious about helping break depend...\n",
       "216  @marcorubio  3/29/2022  At 9 a.m. today I will be speaking on Putin’s ...\n",
       "217  @marcorubio  3/30/2022  As I tweeted 2 weeks ago, #Putin has a new pla...\n",
       "218  @marcorubio   4/5/2022  #Putin felt confident invading #Ukraine becaus...\n",
       "219  @marcorubio  4/26/2022  Since Democrats took over 15 months ago, infla...\n",
       "\n",
       "[220 rows x 3 columns]"
      ]
     },
     "execution_count": 2,
     "metadata": {},
     "output_type": "execute_result"
    }
   ],
   "source": [
    "rubio = pd.read_csv('/Users/justinchen/Desktop/Ukraine Datasets/Marco Rubio Tweets - Sheet1.csv')\n",
    "rubio"
   ]
  },
  {
   "cell_type": "code",
   "execution_count": 3,
   "id": "73d70ec3",
   "metadata": {},
   "outputs": [
    {
     "data": {
      "text/html": [
       "<div>\n",
       "<style scoped>\n",
       "    .dataframe tbody tr th:only-of-type {\n",
       "        vertical-align: middle;\n",
       "    }\n",
       "\n",
       "    .dataframe tbody tr th {\n",
       "        vertical-align: top;\n",
       "    }\n",
       "\n",
       "    .dataframe thead th {\n",
       "        text-align: right;\n",
       "    }\n",
       "</style>\n",
       "<table border=\"1\" class=\"dataframe\">\n",
       "  <thead>\n",
       "    <tr style=\"text-align: right;\">\n",
       "      <th></th>\n",
       "      <th>User</th>\n",
       "      <th>Date</th>\n",
       "      <th>Tweet</th>\n",
       "    </tr>\n",
       "  </thead>\n",
       "  <tbody>\n",
       "    <tr>\n",
       "      <th>0</th>\n",
       "      <td>@BorisJohnson</td>\n",
       "      <td>2/24/22</td>\n",
       "      <td>I am appalled by the horrific events in Ukrain...</td>\n",
       "    </tr>\n",
       "    <tr>\n",
       "      <th>1</th>\n",
       "      <td>@BorisJohnson</td>\n",
       "      <td>2/24/22</td>\n",
       "      <td>This is a catastrophe for our continent. \\n\\nI...</td>\n",
       "    </tr>\n",
       "    <tr>\n",
       "      <th>2</th>\n",
       "      <td>@BorisJohnson</td>\n",
       "      <td>2/24/22</td>\n",
       "      <td>Our mission is clear – diplomatically, politic...</td>\n",
       "    </tr>\n",
       "    <tr>\n",
       "      <th>3</th>\n",
       "      <td>@BorisJohnson</td>\n",
       "      <td>2/24/22</td>\n",
       "      <td>Ukraine is a country that for decades has enjo...</td>\n",
       "    </tr>\n",
       "    <tr>\n",
       "      <th>4</th>\n",
       "      <td>@BorisJohnson</td>\n",
       "      <td>2/24/22</td>\n",
       "      <td>To our Ukrainian friends in this moment of ago...</td>\n",
       "    </tr>\n",
       "    <tr>\n",
       "      <th>...</th>\n",
       "      <td>...</td>\n",
       "      <td>...</td>\n",
       "      <td>...</td>\n",
       "    </tr>\n",
       "    <tr>\n",
       "      <th>111</th>\n",
       "      <td>@BorisJohnson</td>\n",
       "      <td>5/19/22</td>\n",
       "      <td>We also discussed how we can stem the global e...</td>\n",
       "    </tr>\n",
       "    <tr>\n",
       "      <th>112</th>\n",
       "      <td>@BorisJohnson</td>\n",
       "      <td>5/19/22</td>\n",
       "      <td>Reaffirmed British solidarity with the Ukraini...</td>\n",
       "    </tr>\n",
       "    <tr>\n",
       "      <th>113</th>\n",
       "      <td>@BorisJohnson</td>\n",
       "      <td>5/23/22</td>\n",
       "      <td>To all the children of Ukraine: You are not al...</td>\n",
       "    </tr>\n",
       "    <tr>\n",
       "      <th>114</th>\n",
       "      <td>@BorisJohnson</td>\n",
       "      <td>5/24/22</td>\n",
       "      <td>Thank you to schools up and down the country f...</td>\n",
       "    </tr>\n",
       "    <tr>\n",
       "      <th>115</th>\n",
       "      <td>@BorisJohnson</td>\n",
       "      <td>5/28/22</td>\n",
       "      <td>I told President @ZelenskyyUa this morning tha...</td>\n",
       "    </tr>\n",
       "  </tbody>\n",
       "</table>\n",
       "<p>116 rows × 3 columns</p>\n",
       "</div>"
      ],
      "text/plain": [
       "              User     Date                                              Tweet\n",
       "0    @BorisJohnson  2/24/22  I am appalled by the horrific events in Ukrain...\n",
       "1    @BorisJohnson  2/24/22  This is a catastrophe for our continent. \\n\\nI...\n",
       "2    @BorisJohnson  2/24/22  Our mission is clear – diplomatically, politic...\n",
       "3    @BorisJohnson  2/24/22  Ukraine is a country that for decades has enjo...\n",
       "4    @BorisJohnson  2/24/22  To our Ukrainian friends in this moment of ago...\n",
       "..             ...      ...                                                ...\n",
       "111  @BorisJohnson  5/19/22  We also discussed how we can stem the global e...\n",
       "112  @BorisJohnson  5/19/22  Reaffirmed British solidarity with the Ukraini...\n",
       "113  @BorisJohnson  5/23/22  To all the children of Ukraine: You are not al...\n",
       "114  @BorisJohnson  5/24/22  Thank you to schools up and down the country f...\n",
       "115  @BorisJohnson  5/28/22  I told President @ZelenskyyUa this morning tha...\n",
       "\n",
       "[116 rows x 3 columns]"
      ]
     },
     "execution_count": 3,
     "metadata": {},
     "output_type": "execute_result"
    }
   ],
   "source": [
    "johnson = pd.read_csv('/Users/justinchen/Desktop/Ukraine Datasets/Boris Johnson Tweets - Sheet1.csv')\n",
    "johnson"
   ]
  },
  {
   "cell_type": "code",
   "execution_count": 4,
   "id": "75f8efe1",
   "metadata": {},
   "outputs": [
    {
     "data": {
      "text/html": [
       "<div>\n",
       "<style scoped>\n",
       "    .dataframe tbody tr th:only-of-type {\n",
       "        vertical-align: middle;\n",
       "    }\n",
       "\n",
       "    .dataframe tbody tr th {\n",
       "        vertical-align: top;\n",
       "    }\n",
       "\n",
       "    .dataframe thead th {\n",
       "        text-align: right;\n",
       "    }\n",
       "</style>\n",
       "<table border=\"1\" class=\"dataframe\">\n",
       "  <thead>\n",
       "    <tr style=\"text-align: right;\">\n",
       "      <th></th>\n",
       "      <th>User</th>\n",
       "      <th>Date</th>\n",
       "      <th>Tweet</th>\n",
       "    </tr>\n",
       "  </thead>\n",
       "  <tbody>\n",
       "    <tr>\n",
       "      <th>0</th>\n",
       "      <td>@YvetteCooperMP</td>\n",
       "      <td>2/26/22</td>\n",
       "      <td>Ukraine is under fire. People are fleeing war ...</td>\n",
       "    </tr>\n",
       "    <tr>\n",
       "      <th>1</th>\n",
       "      <td>@YvetteCooperMP</td>\n",
       "      <td>2/27/22</td>\n",
       "      <td>My God. People are fleeing war in Europe, the ...</td>\n",
       "    </tr>\n",
       "    <tr>\n",
       "      <th>2</th>\n",
       "      <td>@YvetteCooperMP</td>\n",
       "      <td>2/27/22</td>\n",
       "      <td>Right that Immigration Minister has deleted tw...</td>\n",
       "    </tr>\n",
       "    <tr>\n",
       "      <th>3</th>\n",
       "      <td>@YvetteCooperMP</td>\n",
       "      <td>2/27/22</td>\n",
       "      <td>This is a first step which will help desperate...</td>\n",
       "    </tr>\n",
       "    <tr>\n",
       "      <th>4</th>\n",
       "      <td>@YvetteCooperMP</td>\n",
       "      <td>2/27/22</td>\n",
       "      <td>Shameful of Govt to refuse to even help other ...</td>\n",
       "    </tr>\n",
       "    <tr>\n",
       "      <th>...</th>\n",
       "      <td>...</td>\n",
       "      <td>...</td>\n",
       "      <td>...</td>\n",
       "    </tr>\n",
       "    <tr>\n",
       "      <th>56</th>\n",
       "      <td>@YvetteCooperMP</td>\n",
       "      <td>4/8/22</td>\n",
       "      <td>Not good enough. We need action, not hollow wo...</td>\n",
       "    </tr>\n",
       "    <tr>\n",
       "      <th>57</th>\n",
       "      <td>@YvetteCooperMP</td>\n",
       "      <td>4/14/22</td>\n",
       "      <td>Refugees Minister last wk said “I’m having dif...</td>\n",
       "    </tr>\n",
       "    <tr>\n",
       "      <th>58</th>\n",
       "      <td>@YvetteCooperMP</td>\n",
       "      <td>4/27/22</td>\n",
       "      <td>Families forced to cancel hard earned holidays...</td>\n",
       "    </tr>\n",
       "    <tr>\n",
       "      <th>59</th>\n",
       "      <td>@YvetteCooperMP</td>\n",
       "      <td>5/11/22</td>\n",
       "      <td>Damaging bureaucratic delays on everything fro...</td>\n",
       "    </tr>\n",
       "    <tr>\n",
       "      <th>60</th>\n",
       "      <td>@YvetteCooperMP</td>\n",
       "      <td>5/15/22</td>\n",
       "      <td>We watch #Eurovision every year &amp; normally by ...</td>\n",
       "    </tr>\n",
       "  </tbody>\n",
       "</table>\n",
       "<p>61 rows × 3 columns</p>\n",
       "</div>"
      ],
      "text/plain": [
       "               User     Date  \\\n",
       "0   @YvetteCooperMP  2/26/22   \n",
       "1   @YvetteCooperMP  2/27/22   \n",
       "2   @YvetteCooperMP  2/27/22   \n",
       "3   @YvetteCooperMP  2/27/22   \n",
       "4   @YvetteCooperMP  2/27/22   \n",
       "..              ...      ...   \n",
       "56  @YvetteCooperMP   4/8/22   \n",
       "57  @YvetteCooperMP  4/14/22   \n",
       "58  @YvetteCooperMP  4/27/22   \n",
       "59  @YvetteCooperMP  5/11/22   \n",
       "60  @YvetteCooperMP  5/15/22   \n",
       "\n",
       "                                                Tweet  \n",
       "0   Ukraine is under fire. People are fleeing war ...  \n",
       "1   My God. People are fleeing war in Europe, the ...  \n",
       "2   Right that Immigration Minister has deleted tw...  \n",
       "3   This is a first step which will help desperate...  \n",
       "4   Shameful of Govt to refuse to even help other ...  \n",
       "..                                                ...  \n",
       "56  Not good enough. We need action, not hollow wo...  \n",
       "57  Refugees Minister last wk said “I’m having dif...  \n",
       "58  Families forced to cancel hard earned holidays...  \n",
       "59  Damaging bureaucratic delays on everything fro...  \n",
       "60  We watch #Eurovision every year & normally by ...  \n",
       "\n",
       "[61 rows x 3 columns]"
      ]
     },
     "execution_count": 4,
     "metadata": {},
     "output_type": "execute_result"
    }
   ],
   "source": [
    "cooper = pd.read_csv('/Users/justinchen/Desktop/Ukraine Datasets/Yvette Cooper Tweets - Sheet1.csv')\n",
    "cooper"
   ]
  },
  {
   "cell_type": "code",
   "execution_count": 5,
   "id": "ba0561d7",
   "metadata": {},
   "outputs": [
    {
     "data": {
      "text/html": [
       "<div>\n",
       "<style scoped>\n",
       "    .dataframe tbody tr th:only-of-type {\n",
       "        vertical-align: middle;\n",
       "    }\n",
       "\n",
       "    .dataframe tbody tr th {\n",
       "        vertical-align: top;\n",
       "    }\n",
       "\n",
       "    .dataframe thead th {\n",
       "        text-align: right;\n",
       "    }\n",
       "</style>\n",
       "<table border=\"1\" class=\"dataframe\">\n",
       "  <thead>\n",
       "    <tr style=\"text-align: right;\">\n",
       "      <th></th>\n",
       "      <th>User</th>\n",
       "      <th>Date</th>\n",
       "      <th>Tweet</th>\n",
       "    </tr>\n",
       "  </thead>\n",
       "  <tbody>\n",
       "    <tr>\n",
       "      <th>0</th>\n",
       "      <td>@POTUS</td>\n",
       "      <td>2/24/22</td>\n",
       "      <td>I spoke with the G7 leaders today, and we are ...</td>\n",
       "    </tr>\n",
       "    <tr>\n",
       "      <th>1</th>\n",
       "      <td>@POTUS</td>\n",
       "      <td>2/24/22</td>\n",
       "      <td>We’ve already seen the impact of our actions o...</td>\n",
       "    </tr>\n",
       "    <tr>\n",
       "      <th>2</th>\n",
       "      <td>@POTUS</td>\n",
       "      <td>2/25/22</td>\n",
       "      <td>We have been transparent with the world — we s...</td>\n",
       "    </tr>\n",
       "    <tr>\n",
       "      <th>3</th>\n",
       "      <td>@POTUS</td>\n",
       "      <td>2/25/22</td>\n",
       "      <td>Today, I authorized a new round of sanctions a...</td>\n",
       "    </tr>\n",
       "    <tr>\n",
       "      <th>4</th>\n",
       "      <td>@POTUS</td>\n",
       "      <td>2/25/22</td>\n",
       "      <td>The next few days, weeks, and months will be h...</td>\n",
       "    </tr>\n",
       "    <tr>\n",
       "      <th>...</th>\n",
       "      <td>...</td>\n",
       "      <td>...</td>\n",
       "      <td>...</td>\n",
       "    </tr>\n",
       "    <tr>\n",
       "      <th>146</th>\n",
       "      <td>@POTUS</td>\n",
       "      <td>5/11/22</td>\n",
       "      <td>Today, I visited a family farm in Illinois to ...</td>\n",
       "    </tr>\n",
       "    <tr>\n",
       "      <th>147</th>\n",
       "      <td>@POTUS</td>\n",
       "      <td>5/17/22</td>\n",
       "      <td>Today, I welcomed Greek Prime Minister Kyriako...</td>\n",
       "    </tr>\n",
       "    <tr>\n",
       "      <th>148</th>\n",
       "      <td>@POTUS</td>\n",
       "      <td>5/18/22</td>\n",
       "      <td>The Stars and Stripes fly again over Embassy K...</td>\n",
       "    </tr>\n",
       "    <tr>\n",
       "      <th>149</th>\n",
       "      <td>@POTUS</td>\n",
       "      <td>5/19/22</td>\n",
       "      <td>I applaud Congress for passing the security pa...</td>\n",
       "    </tr>\n",
       "    <tr>\n",
       "      <th>150</th>\n",
       "      <td>@POTUS</td>\n",
       "      <td>5/20/22</td>\n",
       "      <td>We’ve seen just how critical it is. A global s...</td>\n",
       "    </tr>\n",
       "  </tbody>\n",
       "</table>\n",
       "<p>151 rows × 3 columns</p>\n",
       "</div>"
      ],
      "text/plain": [
       "       User     Date                                              Tweet\n",
       "0    @POTUS  2/24/22  I spoke with the G7 leaders today, and we are ...\n",
       "1    @POTUS  2/24/22  We’ve already seen the impact of our actions o...\n",
       "2    @POTUS  2/25/22  We have been transparent with the world — we s...\n",
       "3    @POTUS  2/25/22  Today, I authorized a new round of sanctions a...\n",
       "4    @POTUS  2/25/22  The next few days, weeks, and months will be h...\n",
       "..      ...      ...                                                ...\n",
       "146  @POTUS  5/11/22  Today, I visited a family farm in Illinois to ...\n",
       "147  @POTUS  5/17/22  Today, I welcomed Greek Prime Minister Kyriako...\n",
       "148  @POTUS  5/18/22  The Stars and Stripes fly again over Embassy K...\n",
       "149  @POTUS  5/19/22  I applaud Congress for passing the security pa...\n",
       "150  @POTUS  5/20/22  We’ve seen just how critical it is. A global s...\n",
       "\n",
       "[151 rows x 3 columns]"
      ]
     },
     "execution_count": 5,
     "metadata": {},
     "output_type": "execute_result"
    }
   ],
   "source": [
    "biden = pd.read_csv('/Users/justinchen/Desktop/Ukraine Datasets/Joe Biden Tweets - Sheet1.csv')\n",
    "biden"
   ]
  },
  {
   "cell_type": "markdown",
   "id": "6cb4077b",
   "metadata": {},
   "source": [
    "## Preprocessing "
   ]
  },
  {
   "cell_type": "code",
   "execution_count": 6,
   "id": "e17c0ad4",
   "metadata": {},
   "outputs": [],
   "source": [
    "import re #regex library used for substituting words\n",
    "import demoji #https://github.com/bsolomon1124/demoji"
   ]
  },
  {
   "cell_type": "code",
   "execution_count": 7,
   "id": "4e195672",
   "metadata": {},
   "outputs": [],
   "source": [
    "def pre_cleaning(text):\n",
    "    text = demoji.replace(text, repl=' ')\n",
    "    return text"
   ]
  },
  {
   "cell_type": "code",
   "execution_count": 8,
   "id": "38312d66",
   "metadata": {},
   "outputs": [],
   "source": [
    "#removing stopwords and urls, lemmatization, making lowercase \n",
    "stop_words = stopwords.words('english')\n",
    "lemmatizer = WordNetLemmatizer()\n",
    "\n",
    "text_cleaning_re = \"@|https?:\\S+|http?:\\S|[^A-Za-z0-9]+\"\n",
    "\n",
    "def cleaning(text, stem=False):\n",
    "    text = re.sub(text_cleaning_re, ' ', str(text).lower()).strip()\n",
    "    tokens = []\n",
    "    for token in text.split():\n",
    "        if token not in stop_words:\n",
    "            if stem:\n",
    "                tokens.append(lemmatizer.lemmatize(token))\n",
    "            else:\n",
    "                tokens.append(token)\n",
    "    return \" \".join(tokens)"
   ]
  },
  {
   "cell_type": "code",
   "execution_count": 9,
   "id": "9237c53a",
   "metadata": {},
   "outputs": [],
   "source": [
    "def post_cleaning(text):\n",
    "    # Remove all the special characters\n",
    "    processed_feature = re.sub(r'\\W', ' ',text)\n",
    "\n",
    "    # remove all single characters\n",
    "    processed_feature= re.sub(r'\\s+[a-zA-Z]\\s+', ' ', processed_feature)\n",
    "\n",
    "    # Remove single characters from the start\n",
    "    processed_feature = re.sub(r'\\^[a-zA-Z]\\s+', ' ', processed_feature) \n",
    "    \n",
    "    #remove digits\n",
    "    processed_feature = re.sub(\"^\\d+\\s|\\s\\d+\\s|\\s\\d+$\", \" \", processed_feature)\n",
    "\n",
    "    # Substituting multiple spaces with single space\n",
    "    processed_feature = re.sub(r'\\s+', ' ', processed_feature, flags=re.I)\n",
    "\n",
    "    return processed_feature"
   ]
  },
  {
   "cell_type": "code",
   "execution_count": 10,
   "id": "a2190f3d",
   "metadata": {},
   "outputs": [],
   "source": [
    "# def spec_cleaning(text):\n",
    "#     line = re.sub(\"ukrain\\S+\", 'ukrain', text)\n",
    "#     line = re.sub(\"russia\\S+\", 'russia', line)\n",
    "#     line = re.sub(\"brit\\S+\", 'brit', line)\n",
    "#     line = re.sub(\"zelensky\\S+\", 'zelensky', line)\n",
    "    \n",
    "#     line = re.sub(\"militar\\S+\", 'militar', line)\n",
    "#     line = re.sub(\"famil\\S+\", 'famil', line)\n",
    "#     line = re.sub(\"countr\\S+\", 'countr', line)\n",
    "#     line = re.sub(\"free\\S+\", 'free', line)\n",
    "#     line = re.sub(\"home\\S+\", 'home', line)\n",
    "#     line = re.sub(\"shame\\S+\", 'shame', line)\n",
    "#     line = re.sub(\"support\\S+\", 'support', line)\n",
    "    \n",
    "#     return line"
   ]
  },
  {
   "cell_type": "code",
   "execution_count": 11,
   "id": "829402bf",
   "metadata": {},
   "outputs": [],
   "source": [
    "#above functions combined\n",
    "def preprocessing(text):\n",
    "    line = pre_cleaning(text)\n",
    "    line = cleaning(line)\n",
    "    line = post_cleaning(line)\n",
    "#     line = spec_cleaning(line)\n",
    "    return line"
   ]
  },
  {
   "cell_type": "code",
   "execution_count": 12,
   "id": "6ee1b6a0",
   "metadata": {},
   "outputs": [],
   "source": [
    "rubio.Tweet = rubio.Tweet.apply(lambda x: preprocessing(x))\n",
    "johnson.Tweet = johnson.Tweet.apply(lambda x: preprocessing(x))\n",
    "cooper.Tweet = cooper.Tweet.apply(lambda x: preprocessing(x))\n",
    "biden.Tweet = biden.Tweet.apply(lambda x: preprocessing(x))"
   ]
  },
  {
   "cell_type": "markdown",
   "id": "5a7277fb",
   "metadata": {},
   "source": [
    "# Emotion Classification with NRCLex "
   ]
  },
  {
   "cell_type": "code",
   "execution_count": 13,
   "id": "a685e5ec",
   "metadata": {},
   "outputs": [],
   "source": [
    "# pip install NRCLex\n",
    "from nrclex import NRCLex"
   ]
  },
  {
   "cell_type": "markdown",
   "id": "2de74bf9",
   "metadata": {},
   "source": [
    "## Emotions by Subject of Post"
   ]
  },
  {
   "cell_type": "markdown",
   "id": "97f5be92",
   "metadata": {},
   "source": [
    "### GSDMM Topic Allocation"
   ]
  },
  {
   "cell_type": "code",
   "execution_count": 14,
   "id": "0d1ea1ee",
   "metadata": {},
   "outputs": [],
   "source": [
    "from gsdmm import MovieGroupProcess"
   ]
  },
  {
   "cell_type": "code",
   "execution_count": 15,
   "id": "7ba9a317",
   "metadata": {},
   "outputs": [],
   "source": [
    "def fit_model(df):\n",
    "    tweets = []\n",
    "    for tweet in df.Tweet:\n",
    "        tokens = word_tokenize(tweet)\n",
    "        tweets.append(tokens)\n",
    "\n",
    "    mgp = MovieGroupProcess(K=10, alpha=0.1, beta=1, n_iters=30)\n",
    "    \n",
    "    vocab = set(word for tweet in tweets for word in tweet)\n",
    "    n_terms = len(vocab)\n",
    "    print('vocab size:', n_terms)\n",
    "    \n",
    "    y = mgp.fit(tweets, n_terms)\n",
    "    return mgp"
   ]
  },
  {
   "cell_type": "code",
   "execution_count": 16,
   "id": "a25e6959",
   "metadata": {},
   "outputs": [],
   "source": [
    "def top_words(cluster_word_distribution, top_cluster, values):\n",
    "    for cluster in top_cluster:\n",
    "        sort_dicts = sorted(cluster_word_distribution[cluster].items(), key=lambda k: k[1], reverse=True)[:values]\n",
    "        print('Cluster %s : %s'%(cluster,sort_dicts))"
   ]
  },
  {
   "cell_type": "code",
   "execution_count": 17,
   "id": "79fb3631",
   "metadata": {},
   "outputs": [],
   "source": [
    "def see_topics(mgp):\n",
    "    tweet_count = np.array(mgp.cluster_doc_count)\n",
    "    print('Number of documents per topic :', tweet_count)\n",
    "    \n",
    "    top_index = tweet_count.argsort()[-10:][::-1]\n",
    "    print('Indices of most important clusters (by number of docs inside):', top_index)\n",
    "    \n",
    "    top_words(mgp.cluster_word_distribution, top_index, 5)\n",
    "    return top_index"
   ]
  },
  {
   "cell_type": "code",
   "execution_count": 18,
   "id": "59e43981",
   "metadata": {},
   "outputs": [],
   "source": [
    "def topics_df(df, mgp, topic_dict, threshold=0.3):\n",
    "    result = df\n",
    "    for i, text in enumerate(df.Tweet):\n",
    "        prob = mgp.choose_best_label(word_tokenize(text))\n",
    "        if prob[1] >= threshold:\n",
    "            result.at[i, 'topic'] = topic_dict[prob[0]]\n",
    "        else:\n",
    "            result.at[i, 'topic'] = 'Other'\n",
    "    return result"
   ]
  },
  {
   "cell_type": "markdown",
   "id": "b40fecb3",
   "metadata": {},
   "source": [
    "### Rubio"
   ]
  },
  {
   "cell_type": "code",
   "execution_count": 19,
   "id": "92ca52a1",
   "metadata": {},
   "outputs": [
    {
     "name": "stdout",
     "output_type": "stream",
     "text": [
      "vocab size: 1730\n",
      "In stage 0: transferred 178 clusters with 9 clusters populated\n",
      "In stage 1: transferred 97 clusters with 7 clusters populated\n",
      "In stage 2: transferred 60 clusters with 6 clusters populated\n",
      "In stage 3: transferred 36 clusters with 6 clusters populated\n",
      "In stage 4: transferred 33 clusters with 5 clusters populated\n",
      "In stage 5: transferred 35 clusters with 4 clusters populated\n",
      "In stage 6: transferred 32 clusters with 4 clusters populated\n",
      "In stage 7: transferred 30 clusters with 5 clusters populated\n",
      "In stage 8: transferred 19 clusters with 5 clusters populated\n",
      "In stage 9: transferred 15 clusters with 4 clusters populated\n",
      "In stage 10: transferred 22 clusters with 6 clusters populated\n",
      "In stage 11: transferred 28 clusters with 4 clusters populated\n",
      "In stage 12: transferred 27 clusters with 4 clusters populated\n",
      "In stage 13: transferred 26 clusters with 4 clusters populated\n",
      "In stage 14: transferred 24 clusters with 4 clusters populated\n",
      "In stage 15: transferred 26 clusters with 4 clusters populated\n",
      "In stage 16: transferred 26 clusters with 4 clusters populated\n",
      "In stage 17: transferred 22 clusters with 4 clusters populated\n",
      "In stage 18: transferred 22 clusters with 4 clusters populated\n",
      "In stage 19: transferred 27 clusters with 4 clusters populated\n",
      "In stage 20: transferred 23 clusters with 4 clusters populated\n",
      "In stage 21: transferred 27 clusters with 4 clusters populated\n",
      "In stage 22: transferred 35 clusters with 4 clusters populated\n",
      "In stage 23: transferred 28 clusters with 3 clusters populated\n",
      "In stage 24: transferred 22 clusters with 4 clusters populated\n",
      "In stage 25: transferred 22 clusters with 4 clusters populated\n",
      "In stage 26: transferred 24 clusters with 4 clusters populated\n",
      "In stage 27: transferred 22 clusters with 4 clusters populated\n",
      "In stage 28: transferred 28 clusters with 4 clusters populated\n",
      "In stage 29: transferred 25 clusters with 4 clusters populated\n"
     ]
    }
   ],
   "source": [
    "rub_model = fit_model(rubio)"
   ]
  },
  {
   "cell_type": "code",
   "execution_count": 20,
   "id": "1cdd2519",
   "metadata": {},
   "outputs": [
    {
     "name": "stdout",
     "output_type": "stream",
     "text": [
      "Number of documents per topic : [ 0 99  0  0 20  0  3 98  0  0]\n",
      "Indices of most important clusters (by number of docs inside): [1 7 4 6 9 8 5 3 2 0]\n",
      "Cluster 1 : [('putin', 71), ('russia', 53), ('ukraine', 52), ('military', 25), ('war', 20)]\n",
      "Cluster 7 : [('ukraine', 69), ('russia', 57), ('putin', 53), ('kyiv', 41), ('forces', 19)]\n",
      "Cluster 4 : [('ukraine', 12), ('russia', 8), ('plant', 8), ('nuclear', 7), ('fire', 7)]\n",
      "Cluster 6 : [('thousands', 3), ('thank', 1), ('many', 1), ('network', 1), ('independent', 1)]\n",
      "Cluster 9 : []\n",
      "Cluster 8 : []\n",
      "Cluster 5 : []\n",
      "Cluster 3 : []\n",
      "Cluster 2 : []\n",
      "Cluster 0 : []\n"
     ]
    }
   ],
   "source": [
    "rubio_top_index = see_topics(rub_model)"
   ]
  },
  {
   "cell_type": "code",
   "execution_count": 50,
   "id": "57532ab4",
   "metadata": {},
   "outputs": [
    {
     "data": {
      "text/plain": [
       "{1: 'putin',\n",
       " 7: 'ukraine',\n",
       " 4: 'ukraine nuclear plants',\n",
       " 6: 'other',\n",
       " 9: 'other',\n",
       " 8: 'other',\n",
       " 5: 'other',\n",
       " 3: 'other',\n",
       " 2: 'other',\n",
       " 0: 'other'}"
      ]
     },
     "execution_count": 50,
     "metadata": {},
     "output_type": "execute_result"
    }
   ],
   "source": [
    "rubio_topic_dict = {}\n",
    "rubio_topic_names = ['putin',\n",
    "               'ukraine',\n",
    "               'ukraine nuclear plants',\n",
    "               'other',\n",
    "               'other',\n",
    "               'other',\n",
    "               'other', \n",
    "               'other',\n",
    "               'other',\n",
    "               'other']\n",
    "for i, topic_num in enumerate(rubio_top_index):\n",
    "    rubio_topic_dict[topic_num]=rubio_topic_names[i] \n",
    "rubio_topic_dict"
   ]
  },
  {
   "cell_type": "code",
   "execution_count": 51,
   "id": "57466036",
   "metadata": {},
   "outputs": [
    {
     "data": {
      "text/html": [
       "<div>\n",
       "<style scoped>\n",
       "    .dataframe tbody tr th:only-of-type {\n",
       "        vertical-align: middle;\n",
       "    }\n",
       "\n",
       "    .dataframe tbody tr th {\n",
       "        vertical-align: top;\n",
       "    }\n",
       "\n",
       "    .dataframe thead th {\n",
       "        text-align: right;\n",
       "    }\n",
       "</style>\n",
       "<table border=\"1\" class=\"dataframe\">\n",
       "  <thead>\n",
       "    <tr style=\"text-align: right;\">\n",
       "      <th></th>\n",
       "      <th>User</th>\n",
       "      <th>Date</th>\n",
       "      <th>Tweet</th>\n",
       "      <th>topic</th>\n",
       "    </tr>\n",
       "  </thead>\n",
       "  <tbody>\n",
       "    <tr>\n",
       "      <th>0</th>\n",
       "      <td>@marcorubio</td>\n",
       "      <td>2/24/2022</td>\n",
       "      <td>hours come russia conduct strikes air defense ...</td>\n",
       "      <td>ukraine</td>\n",
       "    </tr>\n",
       "    <tr>\n",
       "      <th>1</th>\n",
       "      <td>@marcorubio</td>\n",
       "      <td>2/24/2022</td>\n",
       "      <td>putin thinks russia troops greeted liberators ...</td>\n",
       "      <td>ukraine</td>\n",
       "    </tr>\n",
       "    <tr>\n",
       "      <th>2</th>\n",
       "      <td>@marcorubio</td>\n",
       "      <td>2/24/2022</td>\n",
       "      <td>russian invasion ukraine underway</td>\n",
       "      <td>putin</td>\n",
       "    </tr>\n",
       "    <tr>\n",
       "      <th>3</th>\n",
       "      <td>@marcorubio</td>\n",
       "      <td>2/24/2022</td>\n",
       "      <td>people ukraine tough people never accept ruled...</td>\n",
       "      <td>putin</td>\n",
       "    </tr>\n",
       "    <tr>\n",
       "      <th>4</th>\n",
       "      <td>@marcorubio</td>\n",
       "      <td>2/24/2022</td>\n",
       "      <td>russia airborne forces attempting take control...</td>\n",
       "      <td>ukraine</td>\n",
       "    </tr>\n",
       "    <tr>\n",
       "      <th>...</th>\n",
       "      <td>...</td>\n",
       "      <td>...</td>\n",
       "      <td>...</td>\n",
       "      <td>...</td>\n",
       "    </tr>\n",
       "    <tr>\n",
       "      <th>215</th>\n",
       "      <td>@marcorubio</td>\n",
       "      <td>3/25/2022</td>\n",
       "      <td>biden serious helping break dependence russia ...</td>\n",
       "      <td>putin</td>\n",
       "    </tr>\n",
       "    <tr>\n",
       "      <th>216</th>\n",
       "      <td>@marcorubio</td>\n",
       "      <td>3/29/2022</td>\n",
       "      <td>today speaking putin war threat communist china</td>\n",
       "      <td>ukraine</td>\n",
       "    </tr>\n",
       "    <tr>\n",
       "      <th>217</th>\n",
       "      <td>@marcorubio</td>\n",
       "      <td>3/30/2022</td>\n",
       "      <td>tweeted weeks ago putin new plan annex kharkiv...</td>\n",
       "      <td>ukraine</td>\n",
       "    </tr>\n",
       "    <tr>\n",
       "      <th>218</th>\n",
       "      <td>@marcorubio</td>\n",
       "      <td>4/5/2022</td>\n",
       "      <td>putin felt confident invading ukraine europe d...</td>\n",
       "      <td>putin</td>\n",
       "    </tr>\n",
       "    <tr>\n",
       "      <th>219</th>\n",
       "      <td>@marcorubio</td>\n",
       "      <td>4/26/2022</td>\n",
       "      <td>since democrats took months ago inflation wipe...</td>\n",
       "      <td>ukraine nuclear plants</td>\n",
       "    </tr>\n",
       "  </tbody>\n",
       "</table>\n",
       "<p>220 rows × 4 columns</p>\n",
       "</div>"
      ],
      "text/plain": [
       "            User       Date  \\\n",
       "0    @marcorubio  2/24/2022   \n",
       "1    @marcorubio  2/24/2022   \n",
       "2    @marcorubio  2/24/2022   \n",
       "3    @marcorubio  2/24/2022   \n",
       "4    @marcorubio  2/24/2022   \n",
       "..           ...        ...   \n",
       "215  @marcorubio  3/25/2022   \n",
       "216  @marcorubio  3/29/2022   \n",
       "217  @marcorubio  3/30/2022   \n",
       "218  @marcorubio   4/5/2022   \n",
       "219  @marcorubio  4/26/2022   \n",
       "\n",
       "                                                 Tweet                   topic  \n",
       "0    hours come russia conduct strikes air defense ...                 ukraine  \n",
       "1    putin thinks russia troops greeted liberators ...                 ukraine  \n",
       "2                    russian invasion ukraine underway                   putin  \n",
       "3    people ukraine tough people never accept ruled...                   putin  \n",
       "4    russia airborne forces attempting take control...                 ukraine  \n",
       "..                                                 ...                     ...  \n",
       "215  biden serious helping break dependence russia ...                   putin  \n",
       "216    today speaking putin war threat communist china                 ukraine  \n",
       "217  tweeted weeks ago putin new plan annex kharkiv...                 ukraine  \n",
       "218  putin felt confident invading ukraine europe d...                   putin  \n",
       "219  since democrats took months ago inflation wipe...  ukraine nuclear plants  \n",
       "\n",
       "[220 rows x 4 columns]"
      ]
     },
     "execution_count": 51,
     "metadata": {},
     "output_type": "execute_result"
    }
   ],
   "source": [
    "rubio_topics = topics_df(rubio, rub_model, rubio_topic_dict)\n",
    "rubio_topics"
   ]
  },
  {
   "cell_type": "code",
   "execution_count": 52,
   "id": "0447dcae",
   "metadata": {},
   "outputs": [
    {
     "data": {
      "text/plain": [
       "putin                     99\n",
       "ukraine                   98\n",
       "ukraine nuclear plants    20\n",
       "other                      3\n",
       "Name: topic, dtype: int64"
      ]
     },
     "execution_count": 52,
     "metadata": {},
     "output_type": "execute_result"
    }
   ],
   "source": [
    "rubio_topics.topic.value_counts(dropna=False)"
   ]
  },
  {
   "cell_type": "markdown",
   "id": "e90969a4",
   "metadata": {},
   "source": [
    "### Johnson"
   ]
  },
  {
   "cell_type": "code",
   "execution_count": 115,
   "id": "a525f3d1",
   "metadata": {},
   "outputs": [
    {
     "name": "stdout",
     "output_type": "stream",
     "text": [
      "vocab size: 975\n",
      "In stage 0: transferred 95 clusters with 10 clusters populated\n",
      "In stage 1: transferred 45 clusters with 7 clusters populated\n",
      "In stage 2: transferred 23 clusters with 4 clusters populated\n",
      "In stage 3: transferred 11 clusters with 4 clusters populated\n",
      "In stage 4: transferred 10 clusters with 3 clusters populated\n",
      "In stage 5: transferred 11 clusters with 3 clusters populated\n",
      "In stage 6: transferred 11 clusters with 3 clusters populated\n",
      "In stage 7: transferred 12 clusters with 3 clusters populated\n",
      "In stage 8: transferred 16 clusters with 4 clusters populated\n",
      "In stage 9: transferred 10 clusters with 4 clusters populated\n",
      "In stage 10: transferred 13 clusters with 5 clusters populated\n",
      "In stage 11: transferred 11 clusters with 4 clusters populated\n",
      "In stage 12: transferred 14 clusters with 3 clusters populated\n",
      "In stage 13: transferred 13 clusters with 5 clusters populated\n",
      "In stage 14: transferred 15 clusters with 3 clusters populated\n",
      "In stage 15: transferred 12 clusters with 3 clusters populated\n",
      "In stage 16: transferred 8 clusters with 3 clusters populated\n",
      "In stage 17: transferred 7 clusters with 3 clusters populated\n",
      "In stage 18: transferred 9 clusters with 3 clusters populated\n",
      "In stage 19: transferred 13 clusters with 4 clusters populated\n",
      "In stage 20: transferred 16 clusters with 4 clusters populated\n",
      "In stage 21: transferred 12 clusters with 3 clusters populated\n",
      "In stage 22: transferred 13 clusters with 3 clusters populated\n",
      "In stage 23: transferred 14 clusters with 3 clusters populated\n",
      "In stage 24: transferred 12 clusters with 4 clusters populated\n",
      "In stage 25: transferred 16 clusters with 6 clusters populated\n",
      "In stage 26: transferred 19 clusters with 5 clusters populated\n",
      "In stage 27: transferred 21 clusters with 4 clusters populated\n",
      "In stage 28: transferred 14 clusters with 4 clusters populated\n",
      "In stage 29: transferred 11 clusters with 3 clusters populated\n"
     ]
    }
   ],
   "source": [
    "johnson_model = fit_model(johnson)"
   ]
  },
  {
   "cell_type": "code",
   "execution_count": 116,
   "id": "d524866f",
   "metadata": {},
   "outputs": [
    {
     "name": "stdout",
     "output_type": "stream",
     "text": [
      "Number of documents per topic : [ 0  0  0  0  0 89  0  0 26  1]\n",
      "Indices of most important clusters (by number of docs inside): [5 8 9 7 6 4 3 2 1 0]\n",
      "Cluster 5 : [('ukraine', 81), ('putin', 52), ('uk', 37), ('russia', 30), ('president', 27)]\n",
      "Cluster 8 : [('ukraine', 21), ('uk', 13), ('ukrainian', 9), ('support', 8), ('freedom', 8)]\n",
      "Cluster 9 : [('ago', 1), ('four', 1), ('years', 1), ('country', 1), ('rocked', 1)]\n",
      "Cluster 7 : []\n",
      "Cluster 6 : []\n",
      "Cluster 4 : []\n",
      "Cluster 3 : []\n",
      "Cluster 2 : []\n",
      "Cluster 1 : []\n",
      "Cluster 0 : []\n"
     ]
    }
   ],
   "source": [
    "johnson_top_index = see_topics(johnson_model)"
   ]
  },
  {
   "cell_type": "code",
   "execution_count": 117,
   "id": "ccd495b9",
   "metadata": {},
   "outputs": [
    {
     "data": {
      "text/plain": [
       "{5: 'putin actions',\n",
       " 8: 'ukraine support',\n",
       " 9: 'other',\n",
       " 7: 'other',\n",
       " 6: 'other',\n",
       " 4: 'other',\n",
       " 3: 'other',\n",
       " 2: 'other',\n",
       " 1: 'other',\n",
       " 0: 'other'}"
      ]
     },
     "execution_count": 117,
     "metadata": {},
     "output_type": "execute_result"
    }
   ],
   "source": [
    "johnson_topic_dict = {}\n",
    "johnson_topic_names = ['putin actions',\n",
    "               'ukraine support',\n",
    "               'other',\n",
    "               'other',\n",
    "               'other',\n",
    "               'other',\n",
    "               'other', \n",
    "               'other',\n",
    "               'other',\n",
    "               'other',]\n",
    "for i, topic_num in enumerate(johnson_top_index):\n",
    "    johnson_topic_dict[topic_num]=johnson_topic_names[i] \n",
    "johnson_topic_dict"
   ]
  },
  {
   "cell_type": "code",
   "execution_count": 118,
   "id": "ce8eece6",
   "metadata": {},
   "outputs": [
    {
     "data": {
      "text/html": [
       "<div>\n",
       "<style scoped>\n",
       "    .dataframe tbody tr th:only-of-type {\n",
       "        vertical-align: middle;\n",
       "    }\n",
       "\n",
       "    .dataframe tbody tr th {\n",
       "        vertical-align: top;\n",
       "    }\n",
       "\n",
       "    .dataframe thead th {\n",
       "        text-align: right;\n",
       "    }\n",
       "</style>\n",
       "<table border=\"1\" class=\"dataframe\">\n",
       "  <thead>\n",
       "    <tr style=\"text-align: right;\">\n",
       "      <th></th>\n",
       "      <th>User</th>\n",
       "      <th>Date</th>\n",
       "      <th>Tweet</th>\n",
       "      <th>topic</th>\n",
       "    </tr>\n",
       "  </thead>\n",
       "  <tbody>\n",
       "    <tr>\n",
       "      <th>0</th>\n",
       "      <td>@BorisJohnson</td>\n",
       "      <td>2/24/22</td>\n",
       "      <td>appalled horrific events ukraine spoken presid...</td>\n",
       "      <td>putin actions</td>\n",
       "    </tr>\n",
       "    <tr>\n",
       "      <th>1</th>\n",
       "      <td>@BorisJohnson</td>\n",
       "      <td>2/24/22</td>\n",
       "      <td>catastrophe continent make address nation morn...</td>\n",
       "      <td>putin actions</td>\n",
       "    </tr>\n",
       "    <tr>\n",
       "      <th>2</th>\n",
       "      <td>@BorisJohnson</td>\n",
       "      <td>2/24/22</td>\n",
       "      <td>mission clear diplomatically politically econo...</td>\n",
       "      <td>putin actions</td>\n",
       "    </tr>\n",
       "    <tr>\n",
       "      <th>3</th>\n",
       "      <td>@BorisJohnson</td>\n",
       "      <td>2/24/22</td>\n",
       "      <td>ukraine country decades enjoyed freedom democr...</td>\n",
       "      <td>ukraine support</td>\n",
       "    </tr>\n",
       "    <tr>\n",
       "      <th>4</th>\n",
       "      <td>@BorisJohnson</td>\n",
       "      <td>2/24/22</td>\n",
       "      <td>ukrainian friends moment agony side right choo...</td>\n",
       "      <td>ukraine support</td>\n",
       "    </tr>\n",
       "    <tr>\n",
       "      <th>...</th>\n",
       "      <td>...</td>\n",
       "      <td>...</td>\n",
       "      <td>...</td>\n",
       "      <td>...</td>\n",
       "    </tr>\n",
       "    <tr>\n",
       "      <th>111</th>\n",
       "      <td>@BorisJohnson</td>\n",
       "      <td>5/19/22</td>\n",
       "      <td>also discussed stem global economic damage cau...</td>\n",
       "      <td>ukraine support</td>\n",
       "    </tr>\n",
       "    <tr>\n",
       "      <th>112</th>\n",
       "      <td>@BorisJohnson</td>\n",
       "      <td>5/19/22</td>\n",
       "      <td>reaffirmed british solidarity ukrainian people...</td>\n",
       "      <td>putin actions</td>\n",
       "    </tr>\n",
       "    <tr>\n",
       "      <th>113</th>\n",
       "      <td>@BorisJohnson</td>\n",
       "      <td>5/23/22</td>\n",
       "      <td>children ukraine alone stand</td>\n",
       "      <td>ukraine support</td>\n",
       "    </tr>\n",
       "    <tr>\n",
       "      <th>114</th>\n",
       "      <td>@BorisJohnson</td>\n",
       "      <td>5/24/22</td>\n",
       "      <td>thank schools country welcoming ukrainian chil...</td>\n",
       "      <td>putin actions</td>\n",
       "    </tr>\n",
       "    <tr>\n",
       "      <th>115</th>\n",
       "      <td>@BorisJohnson</td>\n",
       "      <td>5/28/22</td>\n",
       "      <td>told president zelenskyyua morning stand ukrai...</td>\n",
       "      <td>putin actions</td>\n",
       "    </tr>\n",
       "  </tbody>\n",
       "</table>\n",
       "<p>116 rows × 4 columns</p>\n",
       "</div>"
      ],
      "text/plain": [
       "              User     Date  \\\n",
       "0    @BorisJohnson  2/24/22   \n",
       "1    @BorisJohnson  2/24/22   \n",
       "2    @BorisJohnson  2/24/22   \n",
       "3    @BorisJohnson  2/24/22   \n",
       "4    @BorisJohnson  2/24/22   \n",
       "..             ...      ...   \n",
       "111  @BorisJohnson  5/19/22   \n",
       "112  @BorisJohnson  5/19/22   \n",
       "113  @BorisJohnson  5/23/22   \n",
       "114  @BorisJohnson  5/24/22   \n",
       "115  @BorisJohnson  5/28/22   \n",
       "\n",
       "                                                 Tweet            topic  \n",
       "0    appalled horrific events ukraine spoken presid...    putin actions  \n",
       "1    catastrophe continent make address nation morn...    putin actions  \n",
       "2    mission clear diplomatically politically econo...    putin actions  \n",
       "3    ukraine country decades enjoyed freedom democr...  ukraine support  \n",
       "4    ukrainian friends moment agony side right choo...  ukraine support  \n",
       "..                                                 ...              ...  \n",
       "111  also discussed stem global economic damage cau...  ukraine support  \n",
       "112  reaffirmed british solidarity ukrainian people...    putin actions  \n",
       "113                       children ukraine alone stand  ukraine support  \n",
       "114  thank schools country welcoming ukrainian chil...    putin actions  \n",
       "115  told president zelenskyyua morning stand ukrai...    putin actions  \n",
       "\n",
       "[116 rows x 4 columns]"
      ]
     },
     "execution_count": 118,
     "metadata": {},
     "output_type": "execute_result"
    }
   ],
   "source": [
    "johnson_topics = topics_df(johnson, johnson_model, johnson_topic_dict)\n",
    "johnson_topics"
   ]
  },
  {
   "cell_type": "code",
   "execution_count": 119,
   "id": "ddd01e83",
   "metadata": {},
   "outputs": [
    {
     "data": {
      "text/plain": [
       "putin actions      89\n",
       "ukraine support    26\n",
       "other               1\n",
       "Name: topic, dtype: int64"
      ]
     },
     "execution_count": 119,
     "metadata": {},
     "output_type": "execute_result"
    }
   ],
   "source": [
    "johnson_topics.topic.value_counts(dropna=False)"
   ]
  },
  {
   "cell_type": "markdown",
   "id": "084155f5",
   "metadata": {},
   "source": [
    "### Cooper"
   ]
  },
  {
   "cell_type": "code",
   "execution_count": 144,
   "id": "116dbe37",
   "metadata": {},
   "outputs": [
    {
     "name": "stdout",
     "output_type": "stream",
     "text": [
      "vocab size: 618\n",
      "In stage 0: transferred 49 clusters with 7 clusters populated\n",
      "In stage 1: transferred 28 clusters with 6 clusters populated\n",
      "In stage 2: transferred 10 clusters with 6 clusters populated\n",
      "In stage 3: transferred 11 clusters with 5 clusters populated\n",
      "In stage 4: transferred 7 clusters with 4 clusters populated\n",
      "In stage 5: transferred 4 clusters with 3 clusters populated\n",
      "In stage 6: transferred 6 clusters with 4 clusters populated\n",
      "In stage 7: transferred 3 clusters with 3 clusters populated\n",
      "In stage 8: transferred 2 clusters with 4 clusters populated\n",
      "In stage 9: transferred 3 clusters with 5 clusters populated\n",
      "In stage 10: transferred 6 clusters with 5 clusters populated\n",
      "In stage 11: transferred 3 clusters with 4 clusters populated\n",
      "In stage 12: transferred 3 clusters with 4 clusters populated\n",
      "In stage 13: transferred 5 clusters with 4 clusters populated\n",
      "In stage 14: transferred 4 clusters with 4 clusters populated\n",
      "In stage 15: transferred 2 clusters with 3 clusters populated\n",
      "In stage 16: transferred 2 clusters with 5 clusters populated\n",
      "In stage 17: transferred 3 clusters with 5 clusters populated\n",
      "In stage 18: transferred 4 clusters with 5 clusters populated\n",
      "In stage 19: transferred 5 clusters with 5 clusters populated\n",
      "In stage 20: transferred 8 clusters with 6 clusters populated\n",
      "In stage 21: transferred 5 clusters with 4 clusters populated\n",
      "In stage 22: transferred 5 clusters with 4 clusters populated\n",
      "In stage 23: transferred 6 clusters with 4 clusters populated\n",
      "In stage 24: transferred 4 clusters with 4 clusters populated\n",
      "In stage 25: transferred 5 clusters with 5 clusters populated\n",
      "In stage 26: transferred 6 clusters with 4 clusters populated\n",
      "In stage 27: transferred 3 clusters with 4 clusters populated\n",
      "In stage 28: transferred 2 clusters with 3 clusters populated\n",
      "In stage 29: transferred 3 clusters with 4 clusters populated\n"
     ]
    }
   ],
   "source": [
    "cooper_model = fit_model(cooper)"
   ]
  },
  {
   "cell_type": "code",
   "execution_count": 145,
   "id": "8fa63efa",
   "metadata": {},
   "outputs": [
    {
     "name": "stdout",
     "output_type": "stream",
     "text": [
      "Number of documents per topic : [ 3  1  0  0 34  0  0  0  0 23]\n",
      "Indices of most important clusters (by number of docs inside): [4 9 0 1 8 7 6 5 3 2]\n",
      "Cluster 4 : [('home', 28), ('still', 23), ('office', 21), ('families', 19), ('visa', 16)]\n",
      "Cluster 9 : [('uk', 15), ('family', 15), ('people', 13), ('help', 13), ('home', 12)]\n",
      "Cluster 0 : [('scheme', 5), ('sponsorship', 4), ('song', 3), ('info', 2), ('existing', 2)]\n",
      "Cluster 1 : [('reports', 1), ('pictures', 1), ('coming', 1), ('bucha', 1), ('chilling', 1)]\n",
      "Cluster 8 : []\n",
      "Cluster 7 : []\n",
      "Cluster 6 : []\n",
      "Cluster 5 : []\n",
      "Cluster 3 : []\n",
      "Cluster 2 : []\n"
     ]
    }
   ],
   "source": [
    "cooper_top_index = see_topics(cooper_model)"
   ]
  },
  {
   "cell_type": "code",
   "execution_count": 146,
   "id": "e6689777",
   "metadata": {},
   "outputs": [
    {
     "data": {
      "text/plain": [
       "{4: 'visa',\n",
       " 9: 'uk help',\n",
       " 0: 'other',\n",
       " 1: 'other',\n",
       " 8: 'other',\n",
       " 7: 'other',\n",
       " 6: 'other',\n",
       " 5: 'other',\n",
       " 3: 'other',\n",
       " 2: 'other'}"
      ]
     },
     "execution_count": 146,
     "metadata": {},
     "output_type": "execute_result"
    }
   ],
   "source": [
    "cooper_topic_dict = {}\n",
    "cooper_topic_names = ['visa',\n",
    "               'uk help',\n",
    "               'other',\n",
    "               'other',\n",
    "               'other',\n",
    "               'other',\n",
    "               'other', \n",
    "               'other',\n",
    "               'other',\n",
    "               'other',]\n",
    "for i, topic_num in enumerate(cooper_top_index):\n",
    "    cooper_topic_dict[topic_num]=cooper_topic_names[i] \n",
    "cooper_topic_dict"
   ]
  },
  {
   "cell_type": "code",
   "execution_count": 151,
   "id": "f46a530f",
   "metadata": {},
   "outputs": [
    {
     "data": {
      "text/html": [
       "<div>\n",
       "<style scoped>\n",
       "    .dataframe tbody tr th:only-of-type {\n",
       "        vertical-align: middle;\n",
       "    }\n",
       "\n",
       "    .dataframe tbody tr th {\n",
       "        vertical-align: top;\n",
       "    }\n",
       "\n",
       "    .dataframe thead th {\n",
       "        text-align: right;\n",
       "    }\n",
       "</style>\n",
       "<table border=\"1\" class=\"dataframe\">\n",
       "  <thead>\n",
       "    <tr style=\"text-align: right;\">\n",
       "      <th></th>\n",
       "      <th>User</th>\n",
       "      <th>Date</th>\n",
       "      <th>Tweet</th>\n",
       "      <th>topic</th>\n",
       "    </tr>\n",
       "  </thead>\n",
       "  <tbody>\n",
       "    <tr>\n",
       "      <th>0</th>\n",
       "      <td>@YvetteCooperMP</td>\n",
       "      <td>2/26/22</td>\n",
       "      <td>ukraine fire people fleeing war yet home offic...</td>\n",
       "      <td>uk help</td>\n",
       "    </tr>\n",
       "    <tr>\n",
       "      <th>1</th>\n",
       "      <td>@YvetteCooperMP</td>\n",
       "      <td>2/27/22</td>\n",
       "      <td>god people fleeing war europe like seen genera...</td>\n",
       "      <td>uk help</td>\n",
       "    </tr>\n",
       "    <tr>\n",
       "      <th>2</th>\n",
       "      <td>@YvetteCooperMP</td>\n",
       "      <td>2/27/22</td>\n",
       "      <td>right immigration minister deleted tweet sayin...</td>\n",
       "      <td>uk help</td>\n",
       "    </tr>\n",
       "    <tr>\n",
       "      <th>3</th>\n",
       "      <td>@YvetteCooperMP</td>\n",
       "      <td>2/27/22</td>\n",
       "      <td>first step help desperate families tho delays ...</td>\n",
       "      <td>uk help</td>\n",
       "    </tr>\n",
       "    <tr>\n",
       "      <th>4</th>\n",
       "      <td>@YvetteCooperMP</td>\n",
       "      <td>2/27/22</td>\n",
       "      <td>shameful govt refuse even help relatives terri...</td>\n",
       "      <td>uk help</td>\n",
       "    </tr>\n",
       "    <tr>\n",
       "      <th>...</th>\n",
       "      <td>...</td>\n",
       "      <td>...</td>\n",
       "      <td>...</td>\n",
       "      <td>...</td>\n",
       "    </tr>\n",
       "    <tr>\n",
       "      <th>56</th>\n",
       "      <td>@YvetteCooperMP</td>\n",
       "      <td>4/8/22</td>\n",
       "      <td>good enough need action hollow words desperate...</td>\n",
       "      <td>visa</td>\n",
       "    </tr>\n",
       "    <tr>\n",
       "      <th>57</th>\n",
       "      <td>@YvetteCooperMP</td>\n",
       "      <td>4/14/22</td>\n",
       "      <td>refugees minister last wk said difficulty enou...</td>\n",
       "      <td>visa</td>\n",
       "    </tr>\n",
       "    <tr>\n",
       "      <th>58</th>\n",
       "      <td>@YvetteCooperMP</td>\n",
       "      <td>4/27/22</td>\n",
       "      <td>families forced cancel hard earned holidays co...</td>\n",
       "      <td>visa</td>\n",
       "    </tr>\n",
       "    <tr>\n",
       "      <th>59</th>\n",
       "      <td>@YvetteCooperMP</td>\n",
       "      <td>5/11/22</td>\n",
       "      <td>damaging bureaucratic delays everything ukrain...</td>\n",
       "      <td>visa</td>\n",
       "    </tr>\n",
       "    <tr>\n",
       "      <th>60</th>\n",
       "      <td>@YvetteCooperMP</td>\n",
       "      <td>5/15/22</td>\n",
       "      <td>watch eurovision every year normally song forg...</td>\n",
       "      <td>other</td>\n",
       "    </tr>\n",
       "  </tbody>\n",
       "</table>\n",
       "<p>61 rows × 4 columns</p>\n",
       "</div>"
      ],
      "text/plain": [
       "               User     Date  \\\n",
       "0   @YvetteCooperMP  2/26/22   \n",
       "1   @YvetteCooperMP  2/27/22   \n",
       "2   @YvetteCooperMP  2/27/22   \n",
       "3   @YvetteCooperMP  2/27/22   \n",
       "4   @YvetteCooperMP  2/27/22   \n",
       "..              ...      ...   \n",
       "56  @YvetteCooperMP   4/8/22   \n",
       "57  @YvetteCooperMP  4/14/22   \n",
       "58  @YvetteCooperMP  4/27/22   \n",
       "59  @YvetteCooperMP  5/11/22   \n",
       "60  @YvetteCooperMP  5/15/22   \n",
       "\n",
       "                                                Tweet    topic  \n",
       "0   ukraine fire people fleeing war yet home offic...  uk help  \n",
       "1   god people fleeing war europe like seen genera...  uk help  \n",
       "2   right immigration minister deleted tweet sayin...  uk help  \n",
       "3   first step help desperate families tho delays ...  uk help  \n",
       "4   shameful govt refuse even help relatives terri...  uk help  \n",
       "..                                                ...      ...  \n",
       "56  good enough need action hollow words desperate...     visa  \n",
       "57  refugees minister last wk said difficulty enou...     visa  \n",
       "58  families forced cancel hard earned holidays co...     visa  \n",
       "59  damaging bureaucratic delays everything ukrain...     visa  \n",
       "60  watch eurovision every year normally song forg...    other  \n",
       "\n",
       "[61 rows x 4 columns]"
      ]
     },
     "execution_count": 151,
     "metadata": {},
     "output_type": "execute_result"
    }
   ],
   "source": [
    "cooper_topics = topics_df(cooper, cooper_model, cooper_topic_dict)\n",
    "cooper_topics"
   ]
  },
  {
   "cell_type": "code",
   "execution_count": 152,
   "id": "347222f8",
   "metadata": {},
   "outputs": [
    {
     "data": {
      "text/plain": [
       "visa       34\n",
       "uk help    23\n",
       "other       4\n",
       "Name: topic, dtype: int64"
      ]
     },
     "execution_count": 152,
     "metadata": {},
     "output_type": "execute_result"
    }
   ],
   "source": [
    "cooper_topics.topic.value_counts(dropna=False)"
   ]
  },
  {
   "cell_type": "markdown",
   "id": "260fac1e",
   "metadata": {},
   "source": [
    "### Biden"
   ]
  },
  {
   "cell_type": "code",
   "execution_count": 155,
   "id": "78109f34",
   "metadata": {},
   "outputs": [
    {
     "name": "stdout",
     "output_type": "stream",
     "text": [
      "vocab size: 1063\n",
      "In stage 0: transferred 123 clusters with 10 clusters populated\n",
      "In stage 1: transferred 56 clusters with 7 clusters populated\n",
      "In stage 2: transferred 30 clusters with 6 clusters populated\n",
      "In stage 3: transferred 26 clusters with 5 clusters populated\n",
      "In stage 4: transferred 18 clusters with 6 clusters populated\n",
      "In stage 5: transferred 17 clusters with 4 clusters populated\n",
      "In stage 6: transferred 13 clusters with 5 clusters populated\n",
      "In stage 7: transferred 13 clusters with 4 clusters populated\n",
      "In stage 8: transferred 6 clusters with 4 clusters populated\n",
      "In stage 9: transferred 7 clusters with 5 clusters populated\n",
      "In stage 10: transferred 9 clusters with 6 clusters populated\n",
      "In stage 11: transferred 11 clusters with 4 clusters populated\n",
      "In stage 12: transferred 16 clusters with 5 clusters populated\n",
      "In stage 13: transferred 17 clusters with 5 clusters populated\n",
      "In stage 14: transferred 10 clusters with 4 clusters populated\n",
      "In stage 15: transferred 7 clusters with 4 clusters populated\n",
      "In stage 16: transferred 4 clusters with 5 clusters populated\n",
      "In stage 17: transferred 14 clusters with 6 clusters populated\n",
      "In stage 18: transferred 13 clusters with 6 clusters populated\n",
      "In stage 19: transferred 9 clusters with 4 clusters populated\n",
      "In stage 20: transferred 7 clusters with 4 clusters populated\n",
      "In stage 21: transferred 10 clusters with 5 clusters populated\n",
      "In stage 22: transferred 11 clusters with 4 clusters populated\n",
      "In stage 23: transferred 13 clusters with 4 clusters populated\n",
      "In stage 24: transferred 8 clusters with 4 clusters populated\n",
      "In stage 25: transferred 6 clusters with 4 clusters populated\n",
      "In stage 26: transferred 5 clusters with 4 clusters populated\n",
      "In stage 27: transferred 11 clusters with 5 clusters populated\n",
      "In stage 28: transferred 10 clusters with 5 clusters populated\n",
      "In stage 29: transferred 11 clusters with 4 clusters populated\n"
     ]
    }
   ],
   "source": [
    "biden_model = fit_model(biden)"
   ]
  },
  {
   "cell_type": "code",
   "execution_count": 156,
   "id": "8d0ebe07",
   "metadata": {},
   "outputs": [
    {
     "name": "stdout",
     "output_type": "stream",
     "text": [
      "Number of documents per topic : [ 0  0 11  0  0  0 37  5 98  0]\n",
      "Indices of most important clusters (by number of docs inside): [8 6 2 7 9 5 4 3 1 0]\n",
      "Cluster 8 : [('ukraine', 94), ('russia', 36), ('people', 35), ('assistance', 33), ('today', 31)]\n",
      "Cluster 6 : [('putin', 28), ('ukraine', 19), ('russia', 12), ('people', 11), ('ukrainian', 10)]\n",
      "Cluster 2 : [('russian', 13), ('economy', 6), ('today', 6), ('russia', 5), ('sanctions', 4)]\n",
      "Cluster 7 : [('thank', 3), ('ukraine', 3), ('ukrainian', 2), ('refugees', 2), ('want', 2)]\n",
      "Cluster 9 : []\n",
      "Cluster 5 : []\n",
      "Cluster 4 : []\n",
      "Cluster 3 : []\n",
      "Cluster 1 : []\n",
      "Cluster 0 : []\n"
     ]
    }
   ],
   "source": [
    "biden_top_index = see_topics(biden_model)"
   ]
  },
  {
   "cell_type": "code",
   "execution_count": 157,
   "id": "78690ba3",
   "metadata": {},
   "outputs": [
    {
     "data": {
      "text/plain": [
       "{8: 'ukraine support',\n",
       " 6: 'putin',\n",
       " 2: 'russian sanctions',\n",
       " 7: 'other',\n",
       " 9: 'other',\n",
       " 5: 'other',\n",
       " 4: 'other',\n",
       " 3: 'other',\n",
       " 1: 'other',\n",
       " 0: 'other'}"
      ]
     },
     "execution_count": 157,
     "metadata": {},
     "output_type": "execute_result"
    }
   ],
   "source": [
    "biden_topic_dict = {}\n",
    "biden_topic_names = ['ukraine support',\n",
    "               'putin',\n",
    "               'russian sanctions',\n",
    "               'other',\n",
    "               'other',\n",
    "               'other',\n",
    "               'other', \n",
    "               'other',\n",
    "               'other',\n",
    "               'other',]\n",
    "for i, topic_num in enumerate(biden_top_index):\n",
    "    biden_topic_dict[topic_num]=biden_topic_names[i] \n",
    "biden_topic_dict"
   ]
  },
  {
   "cell_type": "code",
   "execution_count": 158,
   "id": "074d9bc4",
   "metadata": {},
   "outputs": [
    {
     "data": {
      "text/html": [
       "<div>\n",
       "<style scoped>\n",
       "    .dataframe tbody tr th:only-of-type {\n",
       "        vertical-align: middle;\n",
       "    }\n",
       "\n",
       "    .dataframe tbody tr th {\n",
       "        vertical-align: top;\n",
       "    }\n",
       "\n",
       "    .dataframe thead th {\n",
       "        text-align: right;\n",
       "    }\n",
       "</style>\n",
       "<table border=\"1\" class=\"dataframe\">\n",
       "  <thead>\n",
       "    <tr style=\"text-align: right;\">\n",
       "      <th></th>\n",
       "      <th>User</th>\n",
       "      <th>Date</th>\n",
       "      <th>Tweet</th>\n",
       "      <th>topic</th>\n",
       "    </tr>\n",
       "  </thead>\n",
       "  <tbody>\n",
       "    <tr>\n",
       "      <th>0</th>\n",
       "      <td>@POTUS</td>\n",
       "      <td>2/24/22</td>\n",
       "      <td>spoke g7 leaders today full agreement limit ru...</td>\n",
       "      <td>russian sanctions</td>\n",
       "    </tr>\n",
       "    <tr>\n",
       "      <th>1</th>\n",
       "      <td>@POTUS</td>\n",
       "      <td>2/24/22</td>\n",
       "      <td>already seen impact actions russian currency r...</td>\n",
       "      <td>russian sanctions</td>\n",
       "    </tr>\n",
       "    <tr>\n",
       "      <th>2</th>\n",
       "      <td>@POTUS</td>\n",
       "      <td>2/25/22</td>\n",
       "      <td>transparent world shared declassified intellig...</td>\n",
       "      <td>putin</td>\n",
       "    </tr>\n",
       "    <tr>\n",
       "      <th>3</th>\n",
       "      <td>@POTUS</td>\n",
       "      <td>2/25/22</td>\n",
       "      <td>today authorized new round sanctions limitatio...</td>\n",
       "      <td>ukraine support</td>\n",
       "    </tr>\n",
       "    <tr>\n",
       "      <th>4</th>\n",
       "      <td>@POTUS</td>\n",
       "      <td>2/25/22</td>\n",
       "      <td>next days weeks months hard people ukraine put...</td>\n",
       "      <td>putin</td>\n",
       "    </tr>\n",
       "    <tr>\n",
       "      <th>...</th>\n",
       "      <td>...</td>\n",
       "      <td>...</td>\n",
       "      <td>...</td>\n",
       "      <td>...</td>\n",
       "    </tr>\n",
       "    <tr>\n",
       "      <th>146</th>\n",
       "      <td>@POTUS</td>\n",
       "      <td>5/11/22</td>\n",
       "      <td>today visited family farm illinois discuss inv...</td>\n",
       "      <td>putin</td>\n",
       "    </tr>\n",
       "    <tr>\n",
       "      <th>147</th>\n",
       "      <td>@POTUS</td>\n",
       "      <td>5/17/22</td>\n",
       "      <td>today welcomed greek prime minister kyriakos m...</td>\n",
       "      <td>ukraine support</td>\n",
       "    </tr>\n",
       "    <tr>\n",
       "      <th>148</th>\n",
       "      <td>@POTUS</td>\n",
       "      <td>5/18/22</td>\n",
       "      <td>stars stripes fly embassy kyiv announce offici...</td>\n",
       "      <td>ukraine support</td>\n",
       "    </tr>\n",
       "    <tr>\n",
       "      <th>149</th>\n",
       "      <td>@POTUS</td>\n",
       "      <td>5/19/22</td>\n",
       "      <td>applaud congress passing security package requ...</td>\n",
       "      <td>ukraine support</td>\n",
       "    </tr>\n",
       "    <tr>\n",
       "      <th>150</th>\n",
       "      <td>@POTUS</td>\n",
       "      <td>5/20/22</td>\n",
       "      <td>seen critical global semiconductor shortage co...</td>\n",
       "      <td>putin</td>\n",
       "    </tr>\n",
       "  </tbody>\n",
       "</table>\n",
       "<p>151 rows × 4 columns</p>\n",
       "</div>"
      ],
      "text/plain": [
       "       User     Date                                              Tweet  \\\n",
       "0    @POTUS  2/24/22  spoke g7 leaders today full agreement limit ru...   \n",
       "1    @POTUS  2/24/22  already seen impact actions russian currency r...   \n",
       "2    @POTUS  2/25/22  transparent world shared declassified intellig...   \n",
       "3    @POTUS  2/25/22  today authorized new round sanctions limitatio...   \n",
       "4    @POTUS  2/25/22  next days weeks months hard people ukraine put...   \n",
       "..      ...      ...                                                ...   \n",
       "146  @POTUS  5/11/22  today visited family farm illinois discuss inv...   \n",
       "147  @POTUS  5/17/22  today welcomed greek prime minister kyriakos m...   \n",
       "148  @POTUS  5/18/22  stars stripes fly embassy kyiv announce offici...   \n",
       "149  @POTUS  5/19/22  applaud congress passing security package requ...   \n",
       "150  @POTUS  5/20/22  seen critical global semiconductor shortage co...   \n",
       "\n",
       "                 topic  \n",
       "0    russian sanctions  \n",
       "1    russian sanctions  \n",
       "2                putin  \n",
       "3      ukraine support  \n",
       "4                putin  \n",
       "..                 ...  \n",
       "146              putin  \n",
       "147    ukraine support  \n",
       "148    ukraine support  \n",
       "149    ukraine support  \n",
       "150              putin  \n",
       "\n",
       "[151 rows x 4 columns]"
      ]
     },
     "execution_count": 158,
     "metadata": {},
     "output_type": "execute_result"
    }
   ],
   "source": [
    "biden_topics = topics_df(biden, biden_model, biden_topic_dict)\n",
    "biden_topics"
   ]
  },
  {
   "cell_type": "code",
   "execution_count": 159,
   "id": "eab7abeb",
   "metadata": {},
   "outputs": [
    {
     "data": {
      "text/plain": [
       "ukraine support      98\n",
       "putin                37\n",
       "russian sanctions    11\n",
       "other                 5\n",
       "Name: topic, dtype: int64"
      ]
     },
     "execution_count": 159,
     "metadata": {},
     "output_type": "execute_result"
    }
   ],
   "source": [
    "biden_topics.topic.value_counts(dropna=False)"
   ]
  },
  {
   "cell_type": "markdown",
   "id": "055b0cbd",
   "metadata": {},
   "source": [
    "### NRCLex per Topic per Politican"
   ]
  },
  {
   "cell_type": "code",
   "execution_count": 160,
   "id": "40772361",
   "metadata": {},
   "outputs": [],
   "source": [
    "def classify_topic_emotion(df, topic):\n",
    "    df_len = len(df)\n",
    "    str_tweets = ''\n",
    "    for a in range(df_len):\n",
    "        if df.at[a, 'topic'] == topic:\n",
    "            tweet = df.at[a, 'Tweet'] + ','\n",
    "            str_tweets += tweet\n",
    "    text_object = NRCLex(str_tweets)\n",
    "    data = text_object.raw_emotion_scores\n",
    "    return data"
   ]
  },
  {
   "cell_type": "code",
   "execution_count": 40,
   "id": "8960e8a3",
   "metadata": {},
   "outputs": [],
   "source": [
    "def classify_all_topics(df, topic_list):\n",
    "    for topic in topic_list:\n",
    "        print(topic.upper() + ':', classify_topic_emotion(df, topic))"
   ]
  },
  {
   "cell_type": "code",
   "execution_count": 161,
   "id": "e9478f87",
   "metadata": {},
   "outputs": [
    {
     "name": "stdout",
     "output_type": "stream",
     "text": [
      "UKRAINE SUPPORT: {'positive': 316, 'fear': 144, 'negative': 138, 'anticipation': 117, 'trust': 211, 'joy': 69, 'surprise': 35, 'anger': 78, 'disgust': 18, 'sadness': 21}\n",
      "PUTIN: {'fear': 51, 'joy': 29, 'positive': 74, 'trust': 55, 'anger': 38, 'negative': 77, 'sadness': 15, 'anticipation': 28, 'surprise': 10, 'disgust': 11}\n",
      "RUSSIAN SANCTIONS: {'negative': 19, 'positive': 23, 'trust': 16, 'anticipation': 10, 'joy': 5, 'fear': 14, 'anger': 7, 'disgust': 4, 'sadness': 4, 'surprise': 3}\n"
     ]
    }
   ],
   "source": [
    "#BIDEN\n",
    "biden_topic_list = ['ukraine support', 'putin', 'russian sanctions']\n",
    "classify_all_topics(biden_topics, biden_topic_list)"
   ]
  },
  {
   "cell_type": "code",
   "execution_count": 162,
   "id": "f906e27d",
   "metadata": {},
   "outputs": [
    {
     "name": "stdout",
     "output_type": "stream",
     "text": [
      "UKRAINE: {'anger': 88, 'anticipation': 107, 'fear': 165, 'positive': 163, 'negative': 178, 'sadness': 69, 'joy': 42, 'surprise': 24, 'trust': 76, 'disgust': 28}\n",
      "PUTIN: {'anger': 90, 'negative': 212, 'sadness': 73, 'fear': 151, 'joy': 31, 'positive': 139, 'trust': 84, 'surprise': 37, 'disgust': 62, 'anticipation': 60}\n",
      "UKRAINE NUCLEAR PLANTS: {'anticipation': 12, 'positive': 29, 'surprise': 10, 'joy': 4, 'trust': 19, 'negative': 46, 'fear': 35, 'sadness': 16, 'anger': 19, 'disgust': 4}\n"
     ]
    }
   ],
   "source": [
    "#RUBIO\n",
    "rubio_topic_list = ['ukraine', 'putin', 'ukraine nuclear plants']\n",
    "classify_all_topics(rubio_topics, rubio_topic_list)"
   ]
  },
  {
   "cell_type": "code",
   "execution_count": 165,
   "id": "af9ae5dd",
   "metadata": {},
   "outputs": [
    {
     "name": "stdout",
     "output_type": "stream",
     "text": [
      "VISA: {'anger': 21, 'disgust': 15, 'negative': 84, 'sadness': 36, 'fear': 40, 'positive': 44, 'joy': 18, 'trust': 23, 'surprise': 15, 'anticipation': 44}\n",
      "UK HELP: {'fear': 33, 'negative': 50, 'trust': 33, 'anger': 14, 'disgust': 10, 'sadness': 22, 'positive': 54, 'anticipation': 29, 'joy': 21, 'surprise': 8}\n"
     ]
    }
   ],
   "source": [
    "#COOPER\n",
    "cooper_topic_list = ['visa', 'uk help']\n",
    "classify_all_topics(cooper_topics, cooper_topic_list)"
   ]
  },
  {
   "cell_type": "code",
   "execution_count": 164,
   "id": "b4250d61",
   "metadata": {},
   "outputs": [
    {
     "name": "stdout",
     "output_type": "stream",
     "text": [
      "PUTIN ACTIONS: {'anger': 111, 'disgust': 54, 'fear': 149, 'negative': 184, 'sadness': 59, 'positive': 237, 'trust': 163, 'surprise': 32, 'anticipation': 71, 'joy': 47}\n",
      "UKRAINE SUPPORT: {'joy': 29, 'positive': 79, 'trust': 51, 'anger': 30, 'fear': 30, 'negative': 42, 'sadness': 15, 'anticipation': 25, 'surprise': 8, 'disgust': 10}\n"
     ]
    }
   ],
   "source": [
    "#JOHNSON\n",
    "johnson_topic_list = ['putin actions', 'ukraine support']\n",
    "classify_all_topics(johnson_topics, johnson_topic_list)"
   ]
  },
  {
   "cell_type": "markdown",
   "id": "31a7096f",
   "metadata": {},
   "source": [
    "## Total Emotions for Each Politican"
   ]
  },
  {
   "cell_type": "code",
   "execution_count": 191,
   "id": "1e26db5e",
   "metadata": {},
   "outputs": [],
   "source": [
    "def all_emotions(df):\n",
    "    str_tweet = ','.join(df['Tweet'])\n",
    "    text_object = NRCLex(str_tweet)\n",
    "    data = text_object.raw_emotion_scores\n",
    "    return data"
   ]
  },
  {
   "cell_type": "code",
   "execution_count": 192,
   "id": "241e4e16",
   "metadata": {},
   "outputs": [
    {
     "data": {
      "text/plain": [
       "{'anger': 201,\n",
       " 'anticipation': 184,\n",
       " 'fear': 355,\n",
       " 'positive': 336,\n",
       " 'negative': 442,\n",
       " 'sadness': 159,\n",
       " 'joy': 80,\n",
       " 'surprise': 73,\n",
       " 'trust': 183,\n",
       " 'disgust': 96}"
      ]
     },
     "execution_count": 192,
     "metadata": {},
     "output_type": "execute_result"
    }
   ],
   "source": [
    "all_emotions(rubio)"
   ]
  },
  {
   "cell_type": "code",
   "execution_count": 184,
   "id": "17df666e",
   "metadata": {},
   "outputs": [
    {
     "data": {
      "text/plain": [
       "{'fear': 77,\n",
       " 'negative': 143,\n",
       " 'trust': 61,\n",
       " 'anger': 36,\n",
       " 'disgust': 26,\n",
       " 'sadness': 60,\n",
       " 'positive': 106,\n",
       " 'anticipation': 82,\n",
       " 'joy': 42,\n",
       " 'surprise': 26}"
      ]
     },
     "execution_count": 184,
     "metadata": {},
     "output_type": "execute_result"
    }
   ],
   "source": [
    "all_emotions(cooper)"
   ]
  },
  {
   "cell_type": "code",
   "execution_count": 48,
   "id": "51e310dd",
   "metadata": {},
   "outputs": [
    {
     "data": {
      "text/plain": [
       "{'negative': 240,\n",
       " 'positive': 424,\n",
       " 'trust': 291,\n",
       " 'anticipation': 155,\n",
       " 'joy': 106,\n",
       " 'fear': 216,\n",
       " 'anger': 127,\n",
       " 'sadness': 42,\n",
       " 'surprise': 50,\n",
       " 'disgust': 36}"
      ]
     },
     "execution_count": 48,
     "metadata": {},
     "output_type": "execute_result"
    }
   ],
   "source": [
    "all_emotions(biden)"
   ]
  },
  {
   "cell_type": "code",
   "execution_count": 49,
   "id": "cf985135",
   "metadata": {},
   "outputs": [
    {
     "data": {
      "text/plain": [
       "{'anger': 143,\n",
       " 'disgust': 65,\n",
       " 'fear': 182,\n",
       " 'negative': 228,\n",
       " 'sadness': 74,\n",
       " 'positive': 319,\n",
       " 'trust': 216,\n",
       " 'surprise': 40,\n",
       " 'anticipation': 97,\n",
       " 'joy': 78}"
      ]
     },
     "execution_count": 49,
     "metadata": {},
     "output_type": "execute_result"
    }
   ],
   "source": [
    "all_emotions(johnson)"
   ]
  }
 ],
 "metadata": {
  "kernelspec": {
   "display_name": "Python 3 (ipykernel)",
   "language": "python",
   "name": "python3"
  },
  "language_info": {
   "codemirror_mode": {
    "name": "ipython",
    "version": 3
   },
   "file_extension": ".py",
   "mimetype": "text/x-python",
   "name": "python",
   "nbconvert_exporter": "python",
   "pygments_lexer": "ipython3",
   "version": "3.11.2"
  }
 },
 "nbformat": 4,
 "nbformat_minor": 5
}
